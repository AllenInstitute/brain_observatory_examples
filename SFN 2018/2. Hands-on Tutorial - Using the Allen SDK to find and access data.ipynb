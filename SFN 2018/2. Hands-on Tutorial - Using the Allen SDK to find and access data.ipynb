{
 "cells": [
  {
   "cell_type": "markdown",
   "metadata": {},
   "source": [
    "# Hands-on Tutorial - Using the Allen SDK to find and access data\n",
    "\n",
    "### Saturday, November 3, 2018\n",
    "\n",
    "In this tutorial, we are going to explore how do access calcium imaging data from the Allen Brain Observatory through the AllenSDK.\n",
    "\n",
    "Prerequesites:\n",
    "\n",
    "- Install allensdk: http://alleninstitute.github.io/AllenSDK/install.html\n",
    "\n",
    "OR\n",
    "\n",
    "- Spin up AWS instance: https://github.com/AllenInstitute/AllenSDK/wiki/Use-the-Allen-Brain-Observatory-%E2%80%93-Visual-Coding-on-AWS\n",
    "\n",
    "\n",
    "## Today's Tutorial\n",
    "\n",
    "1. Searching for experiments\n",
    "3. Get data from an experiment\n",
    "4. Query neurons\n",
    "5. Plot one neuron's responses to one stimulus"
   ]
  },
  {
   "cell_type": "code",
   "execution_count": 1,
   "metadata": {
    "collapsed": true
   },
   "outputs": [],
   "source": [
    "import numpy as np\n",
    "import pandas as pd\n",
    "import matplotlib.pyplot as plt\n",
    "%matplotlib inline"
   ]
  },
  {
   "cell_type": "markdown",
   "metadata": {},
   "source": [
    "## 1. Searching for experiments \n",
    "\n",
    "The main entry point is the `BrainObservatoryCache` class.  This class is responsible for downloading any requested data or metadata as needed and storing it in well known locations.  \n",
    "\n",
    "We begin by importing the `BrainObservatoryCache` class and instantiating it, pointing it to our manifest file.\n",
    "\n",
    "`manifest_file` is a path to the manifest file.  This needs to reflect where you are storing and accessing the data."
   ]
  },
  {
   "cell_type": "code",
   "execution_count": 2,
   "metadata": {
    "collapsed": true
   },
   "outputs": [],
   "source": [
    "from allensdk.core.brain_observatory_cache import BrainObservatoryCache\n",
    "boc = BrainObservatoryCache()"
   ]
  },
  {
   "cell_type": "markdown",
   "metadata": {},
   "source": [
    "The Brain Observatory Cache allows us to understand the dimensions of the data in the dataset... the conditions under which each experiment was acquired\n",
    "\n",
    "Let's take a look at the available **depths**, **cre lines**, **areas**, and **stimuli** available in the Brain Observatory dataset."
   ]
  },
  {
   "cell_type": "code",
   "execution_count": 3,
   "metadata": {},
   "outputs": [
    {
     "data": {
      "text/plain": [
       "[u'VISal', u'VISam', u'VISl', u'VISp', u'VISpm', u'VISrl']"
      ]
     },
     "execution_count": 3,
     "metadata": {},
     "output_type": "execute_result"
    }
   ],
   "source": [
    "# list of all targeted areas, using Allen Brain Atlas nomenclature\n",
    "boc.get_all_targeted_structures()"
   ]
  },
  {
   "cell_type": "code",
   "execution_count": 4,
   "metadata": {},
   "outputs": [
    {
     "data": {
      "text/plain": [
       "[175,\n",
       " 185,\n",
       " 195,\n",
       " 200,\n",
       " 205,\n",
       " 225,\n",
       " 250,\n",
       " 265,\n",
       " 275,\n",
       " 276,\n",
       " 285,\n",
       " 300,\n",
       " 320,\n",
       " 325,\n",
       " 335,\n",
       " 350,\n",
       " 365,\n",
       " 375,\n",
       " 390,\n",
       " 400,\n",
       " 550,\n",
       " 570,\n",
       " 625]"
      ]
     },
     "execution_count": 4,
     "metadata": {},
     "output_type": "execute_result"
    }
   ],
   "source": [
    "# list of all imaging depths\n",
    "boc.get_all_imaging_depths()"
   ]
  },
  {
   "cell_type": "code",
   "execution_count": 5,
   "metadata": {},
   "outputs": [
    {
     "data": {
      "text/plain": [
       "[u'Cux2-CreERT2',\n",
       " u'Emx1-IRES-Cre',\n",
       " u'Fezf2-CreER',\n",
       " u'Nr5a1-Cre',\n",
       " u'Ntsr1-Cre_GN220',\n",
       " u'Pvalb-IRES-Cre',\n",
       " u'Rbp4-Cre_KL100',\n",
       " u'Rorb-IRES2-Cre',\n",
       " u'Scnn1a-Tg3-Cre',\n",
       " u'Slc17a7-IRES2-Cre',\n",
       " u'Sst-IRES-Cre',\n",
       " u'Tlx3-Cre_PL56',\n",
       " u'Vip-IRES-Cre']"
      ]
     },
     "execution_count": 5,
     "metadata": {},
     "output_type": "execute_result"
    }
   ],
   "source": [
    "# list of all cre driver lines \n",
    "boc.get_all_cre_lines()"
   ]
  },
  {
   "cell_type": "code",
   "execution_count": 6,
   "metadata": {},
   "outputs": [
    {
     "data": {
      "text/plain": [
       "[u'Ai148(TIT2L-GC6f-ICL-tTA2)',\n",
       " u'Ai162(TIT2L-GC6s-ICL-tTA2)',\n",
       " u'Ai93(TITL-GCaMP6f)',\n",
       " u'Ai93(TITL-GCaMP6f)-hyg',\n",
       " u'Ai94(TITL-GCaMP6s)']"
      ]
     },
     "execution_count": 6,
     "metadata": {},
     "output_type": "execute_result"
    }
   ],
   "source": [
    "# list of all GCaMP reporter lines\n",
    "boc.get_all_reporter_lines()"
   ]
  },
  {
   "cell_type": "code",
   "execution_count": 7,
   "metadata": {},
   "outputs": [
    {
     "data": {
      "text/plain": [
       "['drifting_gratings',\n",
       " 'locally_sparse_noise',\n",
       " 'locally_sparse_noise_4deg',\n",
       " 'locally_sparse_noise_8deg',\n",
       " 'natural_movie_one',\n",
       " 'natural_movie_three',\n",
       " 'natural_movie_two',\n",
       " 'natural_scenes',\n",
       " 'spontaneous',\n",
       " 'static_gratings']"
      ]
     },
     "execution_count": 7,
     "metadata": {},
     "output_type": "execute_result"
    }
   ],
   "source": [
    "# list of all stimuli\n",
    "boc.get_all_stimuli()"
   ]
  },
  {
   "cell_type": "code",
   "execution_count": 8,
   "metadata": {
    "collapsed": true
   },
   "outputs": [],
   "source": [
    "# Ai93: fast\n",
    "# Ai94: slow\n",
    "# Ai148: fast\n",
    "# Ai 162: slow"
   ]
  },
  {
   "cell_type": "markdown",
   "metadata": {},
   "source": [
    "### 1.1 Experiment containers & sessions\n",
    "\n",
    "The experiment container describes a set of 3 experiment sessions performed for the same field of view (ie. same targeted area and imaging depth in the same mouse that targets the same set of cells). Each experiment container has a unique ID number."
   ]
  },
  {
   "cell_type": "markdown",
   "metadata": {},
   "source": [
    "> Choose a visual area and Cre line from the lists above"
   ]
  },
  {
   "cell_type": "code",
   "execution_count": 9,
   "metadata": {
    "collapsed": true
   },
   "outputs": [],
   "source": [
    "visual_area = 'VISal'\n",
    "cre_line ='Cux2-CreERT2'"
   ]
  },
  {
   "cell_type": "markdown",
   "metadata": {},
   "source": [
    "> Get the list of all the experiment containers for that area and Cre line combination."
   ]
  },
  {
   "cell_type": "code",
   "execution_count": 10,
   "metadata": {
    "collapsed": true
   },
   "outputs": [],
   "source": [
    "exps = boc.get_experiment_containers(\n",
    "    targeted_structures=[visual_area], \n",
    "    cre_lines=[cre_line],\n",
    ")"
   ]
  },
  {
   "cell_type": "code",
   "execution_count": 11,
   "metadata": {},
   "outputs": [
    {
     "data": {
      "text/html": [
       "<div>\n",
       "<style scoped>\n",
       "    .dataframe tbody tr th:only-of-type {\n",
       "        vertical-align: middle;\n",
       "    }\n",
       "\n",
       "    .dataframe tbody tr th {\n",
       "        vertical-align: top;\n",
       "    }\n",
       "\n",
       "    .dataframe thead th {\n",
       "        text-align: right;\n",
       "    }\n",
       "</style>\n",
       "<table border=\"1\" class=\"dataframe\">\n",
       "  <thead>\n",
       "    <tr style=\"text-align: right;\">\n",
       "      <th></th>\n",
       "      <th>cre_line</th>\n",
       "      <th>donor_name</th>\n",
       "      <th>failed</th>\n",
       "      <th>id</th>\n",
       "      <th>imaging_depth</th>\n",
       "      <th>reporter_line</th>\n",
       "      <th>specimen_name</th>\n",
       "      <th>tags</th>\n",
       "      <th>targeted_structure</th>\n",
       "    </tr>\n",
       "  </thead>\n",
       "  <tbody>\n",
       "    <tr>\n",
       "      <th>0</th>\n",
       "      <td>Cux2-CreERT2</td>\n",
       "      <td>233215</td>\n",
       "      <td>False</td>\n",
       "      <td>511854338</td>\n",
       "      <td>275</td>\n",
       "      <td>Ai93(TITL-GCaMP6f)</td>\n",
       "      <td>Cux2-CreERT2;Camk2a-tTA;Ai93-233215</td>\n",
       "      <td>[]</td>\n",
       "      <td>VISal</td>\n",
       "    </tr>\n",
       "    <tr>\n",
       "      <th>1</th>\n",
       "      <td>Cux2-CreERT2</td>\n",
       "      <td>339323</td>\n",
       "      <td>False</td>\n",
       "      <td>698102441</td>\n",
       "      <td>276</td>\n",
       "      <td>Ai93(TITL-GCaMP6f)</td>\n",
       "      <td>Cux2-CreERT2;Camk2a-tTA;Ai93-339323</td>\n",
       "      <td>[]</td>\n",
       "      <td>VISal</td>\n",
       "    </tr>\n",
       "    <tr>\n",
       "      <th>2</th>\n",
       "      <td>Cux2-CreERT2</td>\n",
       "      <td>222426</td>\n",
       "      <td>False</td>\n",
       "      <td>511510715</td>\n",
       "      <td>175</td>\n",
       "      <td>Ai93(TITL-GCaMP6f)</td>\n",
       "      <td>Cux2-CreERT2;Camk2a-tTA;Ai93-222426</td>\n",
       "      <td>[]</td>\n",
       "      <td>VISal</td>\n",
       "    </tr>\n",
       "    <tr>\n",
       "      <th>3</th>\n",
       "      <td>Cux2-CreERT2</td>\n",
       "      <td>339323</td>\n",
       "      <td>False</td>\n",
       "      <td>638056632</td>\n",
       "      <td>275</td>\n",
       "      <td>Ai93(TITL-GCaMP6f)</td>\n",
       "      <td>Cux2-CreERT2;Camk2a-tTA;Ai93-339323</td>\n",
       "      <td>[]</td>\n",
       "      <td>VISal</td>\n",
       "    </tr>\n",
       "    <tr>\n",
       "      <th>4</th>\n",
       "      <td>Cux2-CreERT2</td>\n",
       "      <td>228379</td>\n",
       "      <td>False</td>\n",
       "      <td>511510867</td>\n",
       "      <td>275</td>\n",
       "      <td>Ai93(TITL-GCaMP6f)</td>\n",
       "      <td>Cux2-CreERT2;Camk2a-tTA;Ai93-228379</td>\n",
       "      <td>[]</td>\n",
       "      <td>VISal</td>\n",
       "    </tr>\n",
       "    <tr>\n",
       "      <th>5</th>\n",
       "      <td>Cux2-CreERT2</td>\n",
       "      <td>229105</td>\n",
       "      <td>False</td>\n",
       "      <td>511510998</td>\n",
       "      <td>175</td>\n",
       "      <td>Ai93(TITL-GCaMP6f)</td>\n",
       "      <td>Cux2-CreERT2;Camk2a-tTA;Ai93-229105</td>\n",
       "      <td>[Epileptiform Events]</td>\n",
       "      <td>VISal</td>\n",
       "    </tr>\n",
       "    <tr>\n",
       "      <th>6</th>\n",
       "      <td>Cux2-CreERT2</td>\n",
       "      <td>222420</td>\n",
       "      <td>False</td>\n",
       "      <td>511510664</td>\n",
       "      <td>175</td>\n",
       "      <td>Ai93(TITL-GCaMP6f)</td>\n",
       "      <td>Cux2-CreERT2;Camk2a-tTA;Ai93-222420</td>\n",
       "      <td>[]</td>\n",
       "      <td>VISal</td>\n",
       "    </tr>\n",
       "    <tr>\n",
       "      <th>7</th>\n",
       "      <td>Cux2-CreERT2</td>\n",
       "      <td>225036</td>\n",
       "      <td>False</td>\n",
       "      <td>511510797</td>\n",
       "      <td>175</td>\n",
       "      <td>Ai93(TITL-GCaMP6f)</td>\n",
       "      <td>Cux2-CreERT2;Camk2a-tTA;Ai93-225036</td>\n",
       "      <td>[]</td>\n",
       "      <td>VISal</td>\n",
       "    </tr>\n",
       "    <tr>\n",
       "      <th>8</th>\n",
       "      <td>Cux2-CreERT2</td>\n",
       "      <td>222425</td>\n",
       "      <td>False</td>\n",
       "      <td>511510695</td>\n",
       "      <td>175</td>\n",
       "      <td>Ai93(TITL-GCaMP6f)</td>\n",
       "      <td>Cux2-CreERT2;Camk2a-tTA;Ai93-222425</td>\n",
       "      <td>[]</td>\n",
       "      <td>VISal</td>\n",
       "    </tr>\n",
       "    <tr>\n",
       "      <th>9</th>\n",
       "      <td>Cux2-CreERT2</td>\n",
       "      <td>228378</td>\n",
       "      <td>False</td>\n",
       "      <td>511511052</td>\n",
       "      <td>275</td>\n",
       "      <td>Ai93(TITL-GCaMP6f)</td>\n",
       "      <td>Cux2-CreERT2;Camk2a-tTA;Ai93-228378</td>\n",
       "      <td>[]</td>\n",
       "      <td>VISal</td>\n",
       "    </tr>\n",
       "    <tr>\n",
       "      <th>10</th>\n",
       "      <td>Cux2-CreERT2</td>\n",
       "      <td>273576</td>\n",
       "      <td>False</td>\n",
       "      <td>555700037</td>\n",
       "      <td>175</td>\n",
       "      <td>Ai93(TITL-GCaMP6f)</td>\n",
       "      <td>Cux2-CreERT2;Camk2a-tTA;Ai93-273576</td>\n",
       "      <td>[]</td>\n",
       "      <td>VISal</td>\n",
       "    </tr>\n",
       "    <tr>\n",
       "      <th>11</th>\n",
       "      <td>Cux2-CreERT2</td>\n",
       "      <td>273576</td>\n",
       "      <td>False</td>\n",
       "      <td>556936291</td>\n",
       "      <td>275</td>\n",
       "      <td>Ai93(TITL-GCaMP6f)</td>\n",
       "      <td>Cux2-CreERT2;Camk2a-tTA;Ai93-273576</td>\n",
       "      <td>[]</td>\n",
       "      <td>VISal</td>\n",
       "    </tr>\n",
       "    <tr>\n",
       "      <th>12</th>\n",
       "      <td>Cux2-CreERT2</td>\n",
       "      <td>231585</td>\n",
       "      <td>False</td>\n",
       "      <td>511856567</td>\n",
       "      <td>275</td>\n",
       "      <td>Ai93(TITL-GCaMP6f)</td>\n",
       "      <td>Cux2-CreERT2;Camk2a-tTA;Ai93-231585</td>\n",
       "      <td>[]</td>\n",
       "      <td>VISal</td>\n",
       "    </tr>\n",
       "  </tbody>\n",
       "</table>\n",
       "</div>"
      ],
      "text/plain": [
       "        cre_line donor_name  failed         id  imaging_depth  \\\n",
       "0   Cux2-CreERT2     233215   False  511854338            275   \n",
       "1   Cux2-CreERT2     339323   False  698102441            276   \n",
       "2   Cux2-CreERT2     222426   False  511510715            175   \n",
       "3   Cux2-CreERT2     339323   False  638056632            275   \n",
       "4   Cux2-CreERT2     228379   False  511510867            275   \n",
       "5   Cux2-CreERT2     229105   False  511510998            175   \n",
       "6   Cux2-CreERT2     222420   False  511510664            175   \n",
       "7   Cux2-CreERT2     225036   False  511510797            175   \n",
       "8   Cux2-CreERT2     222425   False  511510695            175   \n",
       "9   Cux2-CreERT2     228378   False  511511052            275   \n",
       "10  Cux2-CreERT2     273576   False  555700037            175   \n",
       "11  Cux2-CreERT2     273576   False  556936291            275   \n",
       "12  Cux2-CreERT2     231585   False  511856567            275   \n",
       "\n",
       "         reporter_line                        specimen_name  \\\n",
       "0   Ai93(TITL-GCaMP6f)  Cux2-CreERT2;Camk2a-tTA;Ai93-233215   \n",
       "1   Ai93(TITL-GCaMP6f)  Cux2-CreERT2;Camk2a-tTA;Ai93-339323   \n",
       "2   Ai93(TITL-GCaMP6f)  Cux2-CreERT2;Camk2a-tTA;Ai93-222426   \n",
       "3   Ai93(TITL-GCaMP6f)  Cux2-CreERT2;Camk2a-tTA;Ai93-339323   \n",
       "4   Ai93(TITL-GCaMP6f)  Cux2-CreERT2;Camk2a-tTA;Ai93-228379   \n",
       "5   Ai93(TITL-GCaMP6f)  Cux2-CreERT2;Camk2a-tTA;Ai93-229105   \n",
       "6   Ai93(TITL-GCaMP6f)  Cux2-CreERT2;Camk2a-tTA;Ai93-222420   \n",
       "7   Ai93(TITL-GCaMP6f)  Cux2-CreERT2;Camk2a-tTA;Ai93-225036   \n",
       "8   Ai93(TITL-GCaMP6f)  Cux2-CreERT2;Camk2a-tTA;Ai93-222425   \n",
       "9   Ai93(TITL-GCaMP6f)  Cux2-CreERT2;Camk2a-tTA;Ai93-228378   \n",
       "10  Ai93(TITL-GCaMP6f)  Cux2-CreERT2;Camk2a-tTA;Ai93-273576   \n",
       "11  Ai93(TITL-GCaMP6f)  Cux2-CreERT2;Camk2a-tTA;Ai93-273576   \n",
       "12  Ai93(TITL-GCaMP6f)  Cux2-CreERT2;Camk2a-tTA;Ai93-231585   \n",
       "\n",
       "                     tags targeted_structure  \n",
       "0                      []              VISal  \n",
       "1                      []              VISal  \n",
       "2                      []              VISal  \n",
       "3                      []              VISal  \n",
       "4                      []              VISal  \n",
       "5   [Epileptiform Events]              VISal  \n",
       "6                      []              VISal  \n",
       "7                      []              VISal  \n",
       "8                      []              VISal  \n",
       "9                      []              VISal  \n",
       "10                     []              VISal  \n",
       "11                     []              VISal  \n",
       "12                     []              VISal  "
      ]
     },
     "execution_count": 11,
     "metadata": {},
     "output_type": "execute_result"
    }
   ],
   "source": [
    "exps = pd.DataFrame(exps)\n",
    "exps"
   ]
  },
  {
   "cell_type": "markdown",
   "metadata": {},
   "source": [
    "> Let's look at one experiment container, imaged from Cux2, in VISp, from imaging depth 175 um."
   ]
  },
  {
   "cell_type": "code",
   "execution_count": 12,
   "metadata": {
    "collapsed": true
   },
   "outputs": [],
   "source": [
    "experiment_container_id = 511510736"
   ]
  },
  {
   "cell_type": "code",
   "execution_count": null,
   "metadata": {
    "collapsed": true
   },
   "outputs": [],
   "source": [
    "boc.get_ophys_experiments(\n",
    "    experiment_container_ids=[experiment_container_id],\n",
    ")"
   ]
  },
  {
   "cell_type": "markdown",
   "metadata": {},
   "source": [
    "!['Diagram of containers'](http://alleninstitute.github.io/AllenSDK/_static/container_session_layout.png)"
   ]
  },
  {
   "cell_type": "code",
   "execution_count": null,
   "metadata": {
    "collapsed": true
   },
   "outputs": [],
   "source": [
    "boc.get_ophys_experiments(\n",
    "    experiment_container_ids=[experiment_container_id], \n",
    "    stimuli=['natural_scenes'],\n",
    ")"
   ]
  },
  {
   "cell_type": "code",
   "execution_count": null,
   "metadata": {},
   "outputs": [],
   "source": [
    "session_id = boc.get_ophys_experiments(experiment_container_ids=[experiment_container_id], \n",
    "                                       stimuli=['natural_scenes'])[0]['id']\n",
    "print session_id"
   ]
  },
  {
   "cell_type": "markdown",
   "metadata": {},
   "source": [
    "## 2. Get data from an experiment\n",
    "\n",
    "The Ophys Experiment data object gives us access to everything in the NWB file for a single imaging session"
   ]
  },
  {
   "cell_type": "code",
   "execution_count": null,
   "metadata": {
    "collapsed": true
   },
   "outputs": [],
   "source": [
    "data_set = boc.get_ophys_experiment_data(ophys_experiment_id=session_id)"
   ]
  },
  {
   "cell_type": "code",
   "execution_count": null,
   "metadata": {},
   "outputs": [],
   "source": [
    "data_set.get"
   ]
  },
  {
   "cell_type": "markdown",
   "metadata": {},
   "source": [
    "### 2.1 Maximum projection\n",
    "This is the projection of the full motion corrected movie. It shows all of the cells imaged during the session."
   ]
  },
  {
   "cell_type": "code",
   "execution_count": null,
   "metadata": {
    "collapsed": true
   },
   "outputs": [],
   "source": [
    "max_projection = data_set.get_max_projection()"
   ]
  },
  {
   "cell_type": "code",
   "execution_count": null,
   "metadata": {},
   "outputs": [],
   "source": [
    "fig = plt.figure(figsize=(6,6))\n",
    "plt.imshow(max_projection, cmap='gray')"
   ]
  },
  {
   "cell_type": "markdown",
   "metadata": {},
   "source": [
    "### 2.3 ROI Masks\n",
    "These are all of the segmented masks for cell bodies in this experiment."
   ]
  },
  {
   "cell_type": "code",
   "execution_count": null,
   "metadata": {
    "collapsed": true
   },
   "outputs": [],
   "source": [
    "rois = data_set.get_roi_mask_array()"
   ]
  },
  {
   "cell_type": "code",
   "execution_count": null,
   "metadata": {},
   "outputs": [],
   "source": [
    "print rois.shape\n",
    "print \"Number of cells:\", rois.shape[0]"
   ]
  },
  {
   "cell_type": "code",
   "execution_count": null,
   "metadata": {},
   "outputs": [],
   "source": [
    "plt.figure(figsize=(6,6))\n",
    "plt.imshow(rois.sum(axis=0))"
   ]
  },
  {
   "cell_type": "markdown",
   "metadata": {},
   "source": [
    "### 2.4 DF/F Traces\n",
    "There are a number of accessible traces in the NWB file, including raw fluorescence, neuropil corrected traces, demixed traces, and DF/F traces. "
   ]
  },
  {
   "cell_type": "code",
   "execution_count": null,
   "metadata": {
    "collapsed": true
   },
   "outputs": [],
   "source": [
    "ts, dff = data_set.get_dff_traces()"
   ]
  },
  {
   "cell_type": "code",
   "execution_count": null,
   "metadata": {},
   "outputs": [],
   "source": [
    "dff.shape"
   ]
  },
  {
   "cell_type": "code",
   "execution_count": null,
   "metadata": {},
   "outputs": [],
   "source": [
    "fig = plt.figure(figsize=(10,8))\n",
    "for i in range(50):\n",
    "    plt.plot(dff[i,:]+(i*2), color='gray')"
   ]
  },
  {
   "cell_type": "markdown",
   "metadata": {},
   "source": [
    "> It looks like different cells are active at different times. What could that be about?"
   ]
  },
  {
   "cell_type": "markdown",
   "metadata": {},
   "source": [
    "### 2.5 Stimulus epochs\n",
    "\n",
    "Several stimuli are shown during each imaging session, interleaved with each other. The stimulus epoch table provides information of these interleaved stimulus epochs\n"
   ]
  },
  {
   "cell_type": "code",
   "execution_count": null,
   "metadata": {
    "collapsed": true
   },
   "outputs": [],
   "source": [
    "stim_epoch = data_set.get_stimulus_epoch_table()"
   ]
  },
  {
   "cell_type": "code",
   "execution_count": null,
   "metadata": {},
   "outputs": [],
   "source": [
    "stim_epoch"
   ]
  },
  {
   "cell_type": "markdown",
   "metadata": {},
   "source": [
    "> Overlay stimulus epochs on the DFF traces"
   ]
  },
  {
   "cell_type": "code",
   "execution_count": null,
   "metadata": {},
   "outputs": [],
   "source": [
    "stim_epoch.stimulus.unique()"
   ]
  },
  {
   "cell_type": "code",
   "execution_count": null,
   "metadata": {},
   "outputs": [],
   "source": [
    "fig = plt.figure(figsize=(10,8))\n",
    "for i in range(50):\n",
    "    plt.plot(dff[i,:]+(i*2), color='gray')\n",
    "    \n",
    "#for each stimulus, shade the plot when the stimulus is presented\n",
    "colors = ['blue','orange','green','red']\n",
    "for c,stim_name in enumerate(stim_epoch.stimulus.unique()):\n",
    "    stim = stim_epoch[stim_epoch.stimulus==stim_name]\n",
    "    for j in range(len(stim)):\n",
    "        plt.axvspan(xmin=stim.start.iloc[j], xmax=stim.end.iloc[j], color=colors[c], alpha=0.1)"
   ]
  },
  {
   "cell_type": "markdown",
   "metadata": {},
   "source": [
    "> Details of stimulus presentation per trial can be found in the stimulus_table and the images and movies presented can be found in the stimulus_template"
   ]
  },
  {
   "cell_type": "markdown",
   "metadata": {},
   "source": [
    "### 2.6 Stimulus Table\n",
    "For each stimulus there is a stimulus table with information about the condition and timing of each trial. "
   ]
  },
  {
   "cell_type": "code",
   "execution_count": null,
   "metadata": {
    "collapsed": true
   },
   "outputs": [],
   "source": [
    "natural_scene_table = data_set.get_stimulus_table('natural_scenes')"
   ]
  },
  {
   "cell_type": "code",
   "execution_count": null,
   "metadata": {},
   "outputs": [],
   "source": [
    "natural_scene_table.head()"
   ]
  },
  {
   "cell_type": "markdown",
   "metadata": {},
   "source": [
    "### 2.7 Stimulus Template\n",
    "\n",
    "The images and movies presented during the session area also included in the NWB file as the stimulus template. Stimuli that are generated programmatically (eg. drifting and static gratings) do not have a stimulus template. There are tools in the SDK to recreate these stimuli."
   ]
  },
  {
   "cell_type": "code",
   "execution_count": null,
   "metadata": {
    "collapsed": true
   },
   "outputs": [],
   "source": [
    "natural_scene_template = data_set.get_stimulus_template('natural_scenes')"
   ]
  },
  {
   "cell_type": "code",
   "execution_count": null,
   "metadata": {},
   "outputs": [],
   "source": [
    "natural_scene_template.shape"
   ]
  },
  {
   "cell_type": "markdown",
   "metadata": {},
   "source": [
    "> Look at the scene presented for the first trial"
   ]
  },
  {
   "cell_type": "code",
   "execution_count": null,
   "metadata": {},
   "outputs": [],
   "source": [
    "scene_number = natural_scene_table.frame.loc[3]\n",
    "plt.imshow(natural_scene_template[scene_number,:,:], cmap='gray')"
   ]
  },
  {
   "cell_type": "code",
   "execution_count": null,
   "metadata": {},
   "outputs": [],
   "source": [
    "fig = plt.figure(figsize=(10,8))\n",
    "for i in range(50):\n",
    "    plt.plot(dff[i,:]+(i*2), color='gray')\n",
    "    \n",
    "#shade traces with the time of each presentation of the above scene\n",
    "stim_subset = natural_scene_table[natural_scene_table.frame==scene_number]\n",
    "for j in range(len(stim_subset)):\n",
    "    plt.axvspan(xmin=stim_subset.start.iloc[j], xmax=stim_subset.end.iloc[j], color='red', alpha=0.4)"
   ]
  },
  {
   "cell_type": "markdown",
   "metadata": {},
   "source": [
    "### 2.8 Running speed\n",
    "\n",
    "The running speed of the animal on the rotating disk during the entire session."
   ]
  },
  {
   "cell_type": "code",
   "execution_count": null,
   "metadata": {
    "collapsed": true
   },
   "outputs": [],
   "source": [
    "dxcm, tsd = data_set.get_running_speed()"
   ]
  },
  {
   "cell_type": "code",
   "execution_count": null,
   "metadata": {},
   "outputs": [],
   "source": [
    "fig = plt.figure(figsize=(10,3))\n",
    "plt.plot(dxcm)\n",
    "plt.ylabel(\"Running speed (cm/s)\")"
   ]
  },
  {
   "cell_type": "code",
   "execution_count": null,
   "metadata": {},
   "outputs": [],
   "source": [
    "fig = plt.figure(figsize=(10,10))\n",
    "for i in range(50):\n",
    "    plt.plot(dff[i,:]+(i*2), color='gray')\n",
    "plt.plot((0.2*dxcm)-20)\n",
    "    \n",
    "#for each stimulus, shade the plot when the stimulus is presented\n",
    "colors = ['blue','orange','green','red']\n",
    "for c,stim_name in enumerate(stim_epoch.stimulus.unique()):\n",
    "    stim = stim_epoch[stim_epoch.stimulus==stim_name]\n",
    "    for j in range(len(stim)):\n",
    "        plt.axvspan(xmin=stim.start.iloc[j], xmax=stim.end.iloc[j], color=colors[c], alpha=0.1)"
   ]
  },
  {
   "cell_type": "markdown",
   "metadata": {},
   "source": [
    "## 3. Search for cells\n",
    "\n",
    "The `Cell Specimens Table` is a table of metadata and derived metrics computed for each ROI in the entire dataset. This is accessible for direct download from the website and through the sdk.\n"
   ]
  },
  {
   "cell_type": "code",
   "execution_count": null,
   "metadata": {
    "collapsed": true
   },
   "outputs": [],
   "source": [
    "cell_specimens = pd.DataFrame(boc.get_cell_specimens())"
   ]
  },
  {
   "cell_type": "code",
   "execution_count": null,
   "metadata": {},
   "outputs": [],
   "source": [
    "cell_specimens.shape"
   ]
  },
  {
   "cell_type": "code",
   "execution_count": null,
   "metadata": {},
   "outputs": [],
   "source": [
    "cell_specimens.head()"
   ]
  },
  {
   "cell_type": "markdown",
   "metadata": {},
   "source": [
    "> There are 60 columns in this dataframe. Some are metadata, including experiment id, cell_specimen_id, Cre line, targeted area, etc. Others are derived metrics including orientation selectivity, preferred stimulus conditions, receptive field size and location, response reliability, etc. The details on how these are computed are in the White Paper in the `Documentation` Tab on the website. "
   ]
  },
  {
   "cell_type": "code",
   "execution_count": null,
   "metadata": {},
   "outputs": [],
   "source": [
    "cell_specimens.keys()"
   ]
  },
  {
   "cell_type": "markdown",
   "metadata": {},
   "source": [
    "> Let's find the cells from our experiment above"
   ]
  },
  {
   "cell_type": "code",
   "execution_count": null,
   "metadata": {
    "collapsed": true
   },
   "outputs": [],
   "source": [
    "subset = cell_specimens[cell_specimens.experiment_container_id==experiment_container_id]"
   ]
  },
  {
   "cell_type": "code",
   "execution_count": null,
   "metadata": {},
   "outputs": [],
   "source": [
    "len(subset)"
   ]
  },
  {
   "cell_type": "markdown",
   "metadata": {},
   "source": [
    "> Why are there more cells than we saw in the ROI masks above? (HINT: check your handout)\n",
    ">\n",
    "> Let's look at the cells in this experiment that have image #22 (below) as their preferred image."
   ]
  },
  {
   "cell_type": "code",
   "execution_count": null,
   "metadata": {},
   "outputs": [],
   "source": [
    "plt.imshow(natural_scene_template[22,:,:], cmap='gray')"
   ]
  },
  {
   "cell_type": "code",
   "execution_count": null,
   "metadata": {},
   "outputs": [],
   "source": [
    "subset[(subset.p_ns<0.05)&(subset.pref_image_ns==22)].cell_specimen_id"
   ]
  },
  {
   "cell_type": "markdown",
   "metadata": {},
   "source": [
    "## 4. Plot one neuron's responses to one image"
   ]
  },
  {
   "cell_type": "code",
   "execution_count": null,
   "metadata": {},
   "outputs": [],
   "source": [
    "# get the numpy index for this cell id\n",
    "cell_index = data_set.get_cell_specimen_indices([587377366])[0]"
   ]
  },
  {
   "cell_type": "code",
   "execution_count": null,
   "metadata": {},
   "outputs": [],
   "source": [
    "fig = plt.figure(figsize=(10,4))\n",
    "plt.plot(dff[cell_index,:], color='gray')\n",
    "    \n",
    "#shade traces with the time of each presentation of the above scene\n",
    "stim_subset = natural_scene_table[natural_scene_table.frame==22]\n",
    "for j in range(len(stim_subset)):\n",
    "    plt.axvspan(xmin=stim_subset.start.iloc[j], xmax=stim_subset.end.iloc[j], color='red', alpha=0.4)"
   ]
  },
  {
   "cell_type": "code",
   "execution_count": null,
   "metadata": {},
   "outputs": [],
   "source": [
    "stim_subset = natural_scene_table[natural_scene_table.frame==22]\n",
    "for i in range(len(stim_subset)):\n",
    "    plt.plot(dff[cell_index,stim_subset.start.iloc[i]-10:stim_subset.end.iloc[i]+10], color='gray')\n",
    "plt.axvspan(10,18, color='red',alpha=0.2)"
   ]
  },
  {
   "cell_type": "code",
   "execution_count": null,
   "metadata": {
    "collapsed": true
   },
   "outputs": [],
   "source": []
  },
  {
   "cell_type": "code",
   "execution_count": null,
   "metadata": {
    "collapsed": true
   },
   "outputs": [],
   "source": []
  }
 ],
 "metadata": {
  "kernelspec": {
   "display_name": "Python [conda env:allensdk]",
   "language": "python",
   "name": "conda-env-allensdk-py"
  },
  "language_info": {
   "codemirror_mode": {
    "name": "ipython",
    "version": 2
   },
   "file_extension": ".py",
   "mimetype": "text/x-python",
   "name": "python",
   "nbconvert_exporter": "python",
   "pygments_lexer": "ipython2",
   "version": "2.7.15"
  }
 },
 "nbformat": 4,
 "nbformat_minor": 1
}
