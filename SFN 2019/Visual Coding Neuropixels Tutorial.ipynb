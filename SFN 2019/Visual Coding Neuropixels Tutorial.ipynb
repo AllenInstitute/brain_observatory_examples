{
 "cells": [
  {
   "cell_type": "markdown",
   "metadata": {},
   "source": [
    "<img src=\"20190314_ns19_logo.png\" style=\"width:500px\">"
   ]
  },
  {
   "cell_type": "markdown",
   "metadata": {},
   "source": [
    "<div style=\"border-left: 3px solid #000; padding: 1px; padding-left: 10px; background: #F0FAFF; \">\n",
    "   \n",
    "\n",
    "<h1> Using the Allen SDK to find and access data </h1>\n",
    "\n",
    "<h3> SFN 2019 Satellite Event, Saturday, October 19, 2019 </h3>\n",
    "\n",
    "In this tutorial, we are going to explore how to access Neuropixels data from the Allen Brain Observatory through the AllenSDK. You will learn how to download datasets as well as how to access important components of the data such as spike times and metadata for the experimental sessions, among other things.\n",
    "\n",
    "Prerequesites:\n",
    "\n",
    "EITHER\n",
    "\n",
    "- a Python environment (we suggest Anaconda:  https://www.anaconda.com/distribution/)\n",
    "\n",
    "\n",
    "- Install allensdk: http://alleninstitute.github.io/AllenSDK/install.html\n",
    "``` \n",
    "$ pip install allensdk```\n",
    "\n",
    "OR\n",
    "\n",
    "- Spin up AWS instance: https://github.com/AllenInstitute/AllenSDK/wiki/Use-the-Allen-Brain-Observatory-%E2%80%93-Visual-Coding-on-AWS\n",
    "\n",
    "(Note:  if you work through the tutorials locally, i.e. not using AWS, you will be downloading datasets to your local drive.  This can be slow.)"
   ]
  },
  {
   "cell_type": "code",
   "execution_count": 1,
   "metadata": {},
   "outputs": [],
   "source": [
    "import os\n",
    "import numpy as np\n",
    "import matplotlib.pyplot as plt\n",
    "import pandas as pd\n",
    "\n",
    "%matplotlib inline\n",
    "\n",
    "# tab completion in the notebook sometimes has trouble with large dataframes\n",
    "# this will fix it\n",
    "%config Completer.use_jedi = False"
   ]
  },
  {
   "cell_type": "code",
   "execution_count": 2,
   "metadata": {},
   "outputs": [],
   "source": [
    "import platform\n",
    "platstring = platform.platform()\n",
    "\n",
    "if ('amzn1' in platstring):\n",
    "    # then on AWS\n",
    "    data_root = \"/data/allen-brain-observatory/visual-coding-neuropixels/ecephys-cache/\"\n",
    "else:\n",
    "    # then your own platform\n",
    "    # EDIT location where you want the data to be stored\n",
    "    data_root = \"/mnt/hdd0/cache_dir_10_15\"\n",
    "\n",
    "manifest_path = os.path.join(data_root, \"manifest.json\")"
   ]
  },
  {
   "cell_type": "markdown",
   "metadata": {},
   "source": [
    "<div style=\"border-left: 3px solid #000; padding: 1px; padding-left: 25px; padding-right: 25px; padding-top:25px; padding-bottom:25px; background: #F0FAFF; \">\n",
    "<h2>Getting started</h2>\n",
    "<p>The <code>EcephyProjectCache</code> class should be the starting point for your analysis sessions. It points to a cache directory, which can be on your local machine, on a hard drive, or in the cloud. For this workshop, all of the data is available on AWS.\n",
    "    \n",
    "If you request data that's not already stored in the cache directory, it will be automatically downloaded for you. Data only needs to be downloaded once—after that, it can be loaded directly from the cache.\n",
    "\n",
    "The first step is to import the `EcephysProjectCache` class and create a new cache object.\n",
    "\n",
    "The location of the cache is determined by the <code>manifest_path</code>, which was set in the previous cell. In this case, it should point to an existing cache directory on AWS. But if you want to run this code outside the workshop, you would have to specify your own storage location.\n",
    "</div>\n"
   ]
  },
  {
   "cell_type": "code",
   "execution_count": 3,
   "metadata": {},
   "outputs": [],
   "source": [
    "from allensdk.brain_observatory.ecephys.ecephys_project_cache import EcephysProjectCache\n",
    "\n",
    "cache = EcephysProjectCache.from_warehouse(manifest=manifest_path)"
   ]
  },
  {
   "cell_type": "markdown",
   "metadata": {},
   "source": [
    "# 1. Exploring available sessions of the dataset"
   ]
  },
  {
   "cell_type": "markdown",
   "metadata": {},
   "source": [
    "<div style=\"background: #DFF0D8; border-radius: 3px; padding: 10px;\">\n",
    "<p><b>Task 1.1:</b>  Get information about what's in the Neuropixels dataset from EcephysProjectCache\n",
    "\n",
    "<p>Use the <code>get_session_table</code> function to retrieve a dataframe of all the available sessions. What information does this dataframe contain?\n",
    "\n",
    "- How many sessions are there in the dataset?\n",
    "- What is the average number of units in an experiment? The max number? The minimum?\n",
    "- What are the different genotypes that were used in these experiments? How many sessions per genotype?\n",
    "- What are all the brain structures that data has been collected from?\n",
    "</div>"
   ]
  },
  {
   "cell_type": "code",
   "execution_count": 4,
   "metadata": {},
   "outputs": [],
   "source": [
    "sessions = cache.get_session_table()"
   ]
  },
  {
   "cell_type": "markdown",
   "metadata": {},
   "source": [
    "How many sessions are available?"
   ]
  },
  {
   "cell_type": "code",
   "execution_count": 5,
   "metadata": {},
   "outputs": [
    {
     "data": {
      "text/plain": [
       "58"
      ]
     },
     "execution_count": 5,
     "metadata": {},
     "output_type": "execute_result"
    }
   ],
   "source": [
    "sessions.shape[0]"
   ]
  },
  {
   "cell_type": "markdown",
   "metadata": {},
   "source": [
    "What's the average number of units in a session? The max? The min?"
   ]
  },
  {
   "cell_type": "code",
   "execution_count": 6,
   "metadata": {},
   "outputs": [
    {
     "name": "stdout",
     "output_type": "stream",
     "text": [
      "689.8275862068965\n",
      "1005\n",
      "415\n"
     ]
    }
   ],
   "source": [
    "print(sessions.unit_count.mean())\n",
    "print(sessions.unit_count.max())\n",
    "print(sessions.unit_count.min())"
   ]
  },
  {
   "cell_type": "code",
   "execution_count": 7,
   "metadata": {},
   "outputs": [
    {
     "data": {
      "text/plain": [
       "Text(0, 0.5, '# sessions')"
      ]
     },
     "execution_count": 7,
     "metadata": {},
     "output_type": "execute_result"
    },
    {
     "data": {
      "image/png": "[encoded data removed]",
      "text/plain": [
       "<Figure size 432x288 with 1 Axes>"
      ]
     },
     "metadata": {
      "needs_background": "light"
     },
     "output_type": "display_data"
    }
   ],
   "source": [
    "plt.hist(sessions.unit_count, bins=20);\n",
    "plt.xlabel(\"Unit count\")\n",
    "plt.ylabel(\"# sessions\")"
   ]
  },
  {
   "cell_type": "markdown",
   "metadata": {},
   "source": [
    "What are the different genotypes that were used for this dataset? How many sessions per genotype are available?"
   ]
  },
  {
   "cell_type": "code",
   "execution_count": 8,
   "metadata": {},
   "outputs": [
    {
     "data": {
      "text/plain": [
       "wt/wt                                              30\n",
       "Sst-IRES-Cre/wt;Ai32(RCL-ChR2(H134R)_EYFP)/wt      12\n",
       "Vip-IRES-Cre/wt;Ai32(RCL-ChR2(H134R)_EYFP)/wt       8\n",
       "Pvalb-IRES-Cre/wt;Ai32(RCL-ChR2(H134R)_EYFP)/wt     8\n",
       "Name: full_genotype, dtype: int64"
      ]
     },
     "execution_count": 8,
     "metadata": {},
     "output_type": "execute_result"
    }
   ],
   "source": [
    "sessions.full_genotype.value_counts()"
   ]
  },
  {
   "cell_type": "markdown",
   "metadata": {},
   "source": [
    "What are the different session types? How many sessions per type?"
   ]
  },
  {
   "cell_type": "code",
   "execution_count": 9,
   "metadata": {},
   "outputs": [
    {
     "data": {
      "text/plain": [
       "brain_observatory_1.1      32\n",
       "functional_connectivity    26\n",
       "Name: session_type, dtype: int64"
      ]
     },
     "execution_count": 9,
     "metadata": {},
     "output_type": "execute_result"
    }
   ],
   "source": [
    "sessions.session_type.value_counts()"
   ]
  },
  {
   "cell_type": "markdown",
   "metadata": {},
   "source": [
    "What are all the structures that data has been collected from?"
   ]
  },
  {
   "cell_type": "code",
   "execution_count": 10,
   "metadata": {},
   "outputs": [],
   "source": [
    "all_areas = []\n",
    "for index,row in sessions.iterrows():\n",
    "    for a in row.ecephys_structure_acronyms:\n",
    "        if a not in all_areas:\n",
    "            all_areas.append(a)"
   ]
  },
  {
   "cell_type": "code",
   "execution_count": 11,
   "metadata": {},
   "outputs": [
    {
     "name": "stdout",
     "output_type": "stream",
     "text": [
      "['CA1', 'VISrl', nan, 'PO', 'LP', 'LGd', 'CA3', 'DG', 'VISl', 'PoT', 'VISp', 'grey', 'VISpm', 'APN', 'MB', 'VISam', 'TH', 'Eth', 'POL', 'NOT', 'SUB', 'VL', 'CA2', 'VPM', 'VISal', 'SCig', 'PPT', 'VIS', 'ProS', 'LGv', 'HPF', 'VISmma', 'PP', 'PIL', 'MGv', 'VPL', 'IGL', 'SGN', 'IntG', 'LD', 'MGm', 'MGd', 'POST', 'MRN', 'VISli', 'OP', 'ZI', 'VISmmp', 'PF', 'LT', 'RPF', 'PRE', 'SCiw', 'CP', 'RT', 'SCop', 'SCsg', 'SCzo']\n"
     ]
    }
   ],
   "source": [
    "print(all_areas)"
   ]
  },
  {
   "cell_type": "markdown",
   "metadata": {},
   "source": [
    "To get more information about these structures, visit [our reference atlas web app](http://atlas.brain-map.org/atlas?atlas=602630314)."
   ]
  },
  {
   "cell_type": "markdown",
   "metadata": {},
   "source": [
    "How many sessions have data from VISp?"
   ]
  },
  {
   "cell_type": "code",
   "execution_count": 12,
   "metadata": {},
   "outputs": [
    {
     "name": "stdout",
     "output_type": "stream",
     "text": [
      "56\n"
     ]
    }
   ],
   "source": [
    "count=0\n",
    "for index,row in sessions.iterrows():\n",
    "    if 'VISp' in row.ecephys_structure_acronyms:\n",
    "        count+=1\n",
    "print(count)"
   ]
  },
  {
   "cell_type": "markdown",
   "metadata": {},
   "source": [
    "<div style=\"border-left: 3px solid #000; padding: 1px; padding-left: 25px; padding-right: 25px; padding-top:25px; padding-bottom:25px; background: #F0FAFF; \">\n",
    "<h2>The session object</h2>\n",
    "<p>The session object allows you to access all the data and metadata for a single experiment session, including spike times, stimulus information, unit waveforms, LFP, and the mouse's running speed. \n",
    "\n",
    "<p>The session object is created by <code>cache.get_session_data(session_id)</code>. Some data can be accessed directly as an attribute of the class, others by using 'get' functions. \n",
    "\n",
    "</div>"
   ]
  },
  {
   "cell_type": "markdown",
   "metadata": {},
   "source": [
    "<div style=\"background: #DFF0D8; border-radius: 3px; padding: 10px;\">\n",
    "<p><b>Task 1.2:</b>  Let's pick one session to examine in greater detail. Select a `brain_observatory_1.1` session. Feel free to use other metadata to select one session and get the session_id (the index).\n",
    "\n",
    "</div>"
   ]
  },
  {
   "cell_type": "code",
   "execution_count": 13,
   "metadata": {},
   "outputs": [
    {
     "name": "stdout",
     "output_type": "stream",
     "text": [
      "732592105\n"
     ]
    }
   ],
   "source": [
    "session_id = sessions[(sessions.unit_count>500) & (sessions.session_type=='brain_observatory_1.1')\n",
    "                      &(sessions.full_genotype=='wt/wt')].index[0]\n",
    "print(session_id)"
   ]
  },
  {
   "cell_type": "markdown",
   "metadata": {},
   "source": [
    "Which structures were recorded from in this session?"
   ]
  },
  {
   "cell_type": "code",
   "execution_count": 14,
   "metadata": {},
   "outputs": [
    {
     "data": {
      "text/plain": [
       "array(['grey', 'VISpm', nan, 'VISp', 'VISl', 'VISal', 'VISrl'],\n",
       "      dtype=object)"
      ]
     },
     "execution_count": 14,
     "metadata": {},
     "output_type": "execute_result"
    }
   ],
   "source": [
    "sessions.ecephys_structure_acronyms[session_id]"
   ]
  },
  {
   "cell_type": "markdown",
   "metadata": {},
   "source": [
    "If the session only contains cortical structures ('VIS' acronym, which stands for visual cortex), it means that the probes from this session haven't been registered to the Common Coordinate Framework. All the data is still available, but only the location of cortical channels has been validated.\n",
    "\n",
    "Let's pick a different session that has more structures available."
   ]
  },
  {
   "cell_type": "code",
   "execution_count": 15,
   "metadata": {},
   "outputs": [
    {
     "name": "stdout",
     "output_type": "stream",
     "text": [
      "744228101\n"
     ]
    },
    {
     "data": {
      "text/plain": [
       "array(['Eth', 'TH', 'LP', 'POL', 'APN', 'DG', 'CA1', 'VIS', nan, 'CA3',\n",
       "       'VISrl', 'VPL', 'IGL', 'LGd', 'CA2', 'VISal', 'VISl', 'SGN', 'SUB',\n",
       "       'VISp'], dtype=object)"
      ]
     },
     "execution_count": 15,
     "metadata": {},
     "output_type": "execute_result"
    }
   ],
   "source": [
    "session_id = sessions[(sessions.unit_count>500) & (sessions.session_type=='brain_observatory_1.1')\n",
    "                      &(sessions.full_genotype=='wt/wt')].index[5]\n",
    "\n",
    "print(session_id)\n",
    "\n",
    "sessions.ecephys_structure_acronyms[session_id]"
   ]
  },
  {
   "cell_type": "markdown",
   "metadata": {},
   "source": [
    "This one contains units from the thalamus (LP, LGd), hippocampal formation (CA1, CA3, DG), and cortex, among other structures.\n",
    "\n",
    "Let's take a closer look at it!"
   ]
  },
  {
   "cell_type": "markdown",
   "metadata": {},
   "source": [
    "<div style=\"background: #DFF0D8; border-radius: 3px; padding: 10px;\">\n",
    "<p><b>Task 1.3:</b>  Get the data for this session.  \n",
    "\n",
    "<p> Use the <code>get_session_data</code> function of the cache to access the session object for this session. This object will load data from the underlying NWB file whenever it's requested.\n",
    "</div>"
   ]
  },
  {
   "cell_type": "code",
   "execution_count": 16,
   "metadata": {},
   "outputs": [],
   "source": [
    "session = cache.get_session_data(session_id)"
   ]
  },
  {
   "attachments": {
    "image.png": {
     "image/png": "[encoded data removed]"
    }
   },
   "cell_type": "markdown",
   "metadata": {},
   "source": [
    "<div style=\"border-left: 3px solid #000; padding: 1px; padding-left: 25px; padding-right: 25px; padding-top:25px; padding-bottom:25px; background: #F0FAFF; \">\n",
    "    \n",
    "<h2> 2. Unit properties</h2>\n",
    "\n",
    "<p> Most of your analysis of Neuropixels data will likely focus on spike trains. We use\n",
    "    <a href=\"https://github.com/mouseland/kilosort2\">Kilosort2</a> to extract spike times from the original continuously sampled data, and to associate each spike with a particular unit. We use the term 'units', rather than 'cells', because we cannot guarantee that every spike in a spike train actually comes from one neuron. Unlike in two-photon imaging, where you can see the cell throughout the entire recording, with ephys we can only 'see' a cell when it fires a spike. If a cell moves relative to the probe, or if it's far away from the probe, some of its spikes may get mixed together with those from other cells.\n",
    "    \n",
    "Because of this inherent ambiguity, we provide a variety of quality metrics to allow you to find the right units for your analysis. Even highly contaminated units contain potentially valuable information about brain states, so we didn't want to leave them out of the dataset. But certain types of analysis require more stringent quality thresholds, to ensure that all of the units are well isolated.\n",
    "    \n",
    "<code>session.units</code> will return a dataframe containing metrics for the units for one session. These metrics include:\n",
    "</p>\n",
    "<ul>\n",
    "<li> <b>firing_rate:</b> mean spike rate throughout the entire session; units will very low firing rates (less than 0.1 Hz) can be difficult to isolate\n",
    "<li> <b>presence_ratio:</b> fraction of the session for which spikes are present; if a unit drifts out of the recording, it will have a low presence ratio. By default, we only return units with a presence ratio greater than 0.95\n",
    "<li> <b>isi_violations:</b> rate of refractory period violations; higher values for ISI violations indicate greater contamination. By default, we only return units with ISI violation less than 0.5\n",
    "<li> <b>amplitude_cutoff:</b> roughly proportional to the fraction of missing spikes; for low-amplitude units, some spikes will not be detected, resulting in a higher amplitude cutoff. By default, we only return units with an amplitude cutoff less than 0.1 \n",
    "</ul>\n",
    "\n",
    "The default thresholds were chosen to return units that are missing less than 10% of spikes, are present throughout the duration of the recording, and are relatively un-contaminated. If you want access to all of the units from the recording, or want to set a different threshold for one of these metrics, you can {DO THIS}\n",
    "\n",
    "The units table also includes metrics computed from the spike waveform, such as the amplitude, peak-to-trough ratio, and duration (see below).\n",
    "\n",
    "<b>1D Waveform features:</b>\n",
    "\n",
    "![image.png](attachment:image.png)\n",
    "\n",
    "For more information on the unit metrics:\n",
    "\n",
    "https://github.com/AllenInstitute/ecephys_spike_sorting/tree/master/ecephys_spike_sorting/modules/quality_metrics\n",
    "https://github.com/AllenInstitute/ecephys_spike_sorting/tree/master/ecephys_spike_sorting/modules/mean_waveforms\n",
    "\n",
    "</div>\n"
   ]
  },
  {
   "cell_type": "markdown",
   "metadata": {},
   "source": [
    "<div style=\"background: #DFF0D8; border-radius: 3px; padding: 10px;\">\n",
    "<p><b>Task 2.1: Units</b>  \n",
    "\n",
    "<p> Get the `units` dataframe for this session. \n",
    "\n",
    "What the the metrics? (i.e. what are the columns for the dataframe?\n",
    "\n",
    "How many units are there? How many units per structure?\n",
    "</div>"
   ]
  },
  {
   "cell_type": "code",
   "execution_count": 17,
   "metadata": {
    "scrolled": false
   },
   "outputs": [
    {
     "data": {
      "text/html": [
       "<div>\n",
       "<style scoped>\n",
       "    .dataframe tbody tr th:only-of-type {\n",
       "        vertical-align: middle;\n",
       "    }\n",
       "\n",
       "    .dataframe tbody tr th {\n",
       "        vertical-align: top;\n",
       "    }\n",
       "\n",
       "    .dataframe thead th {\n",
       "        text-align: right;\n",
       "    }\n",
       "</style>\n",
       "<table border=\"1\" class=\"dataframe\">\n",
       "  <thead>\n",
       "    <tr style=\"text-align: right;\">\n",
       "      <th></th>\n",
       "      <th>waveform_spread</th>\n",
       "      <th>silhouette_score</th>\n",
       "      <th>waveform_PT_ratio</th>\n",
       "      <th>waveform_amplitude</th>\n",
       "      <th>local_index_unit</th>\n",
       "      <th>L_ratio</th>\n",
       "      <th>d_prime</th>\n",
       "      <th>amplitude_cutoff</th>\n",
       "      <th>nn_hit_rate</th>\n",
       "      <th>waveform_velocity_above</th>\n",
       "      <th>...</th>\n",
       "      <th>ecephys_structure_id</th>\n",
       "      <th>ecephys_structure_acronym</th>\n",
       "      <th>anterior_posterior_ccf_coordinate</th>\n",
       "      <th>dorsal_ventral_ccf_coordinate</th>\n",
       "      <th>left_right_ccf_coordinate</th>\n",
       "      <th>probe_description</th>\n",
       "      <th>location</th>\n",
       "      <th>probe_sampling_rate</th>\n",
       "      <th>probe_lfp_sampling_rate</th>\n",
       "      <th>probe_has_lfp_data</th>\n",
       "    </tr>\n",
       "    <tr>\n",
       "      <th>unit_id</th>\n",
       "      <th></th>\n",
       "      <th></th>\n",
       "      <th></th>\n",
       "      <th></th>\n",
       "      <th></th>\n",
       "      <th></th>\n",
       "      <th></th>\n",
       "      <th></th>\n",
       "      <th></th>\n",
       "      <th></th>\n",
       "      <th></th>\n",
       "      <th></th>\n",
       "      <th></th>\n",
       "      <th></th>\n",
       "      <th></th>\n",
       "      <th></th>\n",
       "      <th></th>\n",
       "      <th></th>\n",
       "      <th></th>\n",
       "      <th></th>\n",
       "      <th></th>\n",
       "    </tr>\n",
       "  </thead>\n",
       "  <tbody>\n",
       "    <tr>\n",
       "      <td>951773968</td>\n",
       "      <td>40.0</td>\n",
       "      <td>0.023816</td>\n",
       "      <td>0.640688</td>\n",
       "      <td>114.786945</td>\n",
       "      <td>4</td>\n",
       "      <td>0.007553</td>\n",
       "      <td>4.594217</td>\n",
       "      <td>0.029609</td>\n",
       "      <td>0.992667</td>\n",
       "      <td>0.206030</td>\n",
       "      <td>...</td>\n",
       "      <td>215.0</td>\n",
       "      <td>APN</td>\n",
       "      <td>7848</td>\n",
       "      <td>3152</td>\n",
       "      <td>6806</td>\n",
       "      <td>probeA</td>\n",
       "      <td></td>\n",
       "      <td>29999.962297</td>\n",
       "      <td>1249.998429</td>\n",
       "      <td>True</td>\n",
       "    </tr>\n",
       "    <tr>\n",
       "      <td>951773987</td>\n",
       "      <td>60.0</td>\n",
       "      <td>0.142609</td>\n",
       "      <td>0.590508</td>\n",
       "      <td>74.435595</td>\n",
       "      <td>9</td>\n",
       "      <td>0.014093</td>\n",
       "      <td>3.043791</td>\n",
       "      <td>0.006487</td>\n",
       "      <td>0.968000</td>\n",
       "      <td>-0.068677</td>\n",
       "      <td>...</td>\n",
       "      <td>215.0</td>\n",
       "      <td>APN</td>\n",
       "      <td>7838</td>\n",
       "      <td>3129</td>\n",
       "      <td>6810</td>\n",
       "      <td>probeA</td>\n",
       "      <td></td>\n",
       "      <td>29999.962297</td>\n",
       "      <td>1249.998429</td>\n",
       "      <td>True</td>\n",
       "    </tr>\n",
       "    <tr>\n",
       "      <td>951774009</td>\n",
       "      <td>60.0</td>\n",
       "      <td>0.052454</td>\n",
       "      <td>1.227057</td>\n",
       "      <td>61.310730</td>\n",
       "      <td>14</td>\n",
       "      <td>0.012127</td>\n",
       "      <td>2.572846</td>\n",
       "      <td>0.024603</td>\n",
       "      <td>0.979333</td>\n",
       "      <td>-0.343384</td>\n",
       "      <td>...</td>\n",
       "      <td>215.0</td>\n",
       "      <td>APN</td>\n",
       "      <td>7831</td>\n",
       "      <td>3114</td>\n",
       "      <td>6813</td>\n",
       "      <td>probeA</td>\n",
       "      <td></td>\n",
       "      <td>29999.962297</td>\n",
       "      <td>1249.998429</td>\n",
       "      <td>True</td>\n",
       "    </tr>\n",
       "    <tr>\n",
       "      <td>951774042</td>\n",
       "      <td>60.0</td>\n",
       "      <td>0.134882</td>\n",
       "      <td>1.656495</td>\n",
       "      <td>129.899055</td>\n",
       "      <td>20</td>\n",
       "      <td>0.000251</td>\n",
       "      <td>4.519415</td>\n",
       "      <td>0.000788</td>\n",
       "      <td>0.998000</td>\n",
       "      <td>-0.480737</td>\n",
       "      <td>...</td>\n",
       "      <td>215.0</td>\n",
       "      <td>APN</td>\n",
       "      <td>7814</td>\n",
       "      <td>3075</td>\n",
       "      <td>6820</td>\n",
       "      <td>probeA</td>\n",
       "      <td></td>\n",
       "      <td>29999.962297</td>\n",
       "      <td>1249.998429</td>\n",
       "      <td>True</td>\n",
       "    </tr>\n",
       "    <tr>\n",
       "      <td>951774078</td>\n",
       "      <td>70.0</td>\n",
       "      <td>0.043923</td>\n",
       "      <td>0.233868</td>\n",
       "      <td>84.936930</td>\n",
       "      <td>27</td>\n",
       "      <td>0.002930</td>\n",
       "      <td>4.450108</td>\n",
       "      <td>0.002083</td>\n",
       "      <td>0.996667</td>\n",
       "      <td>0.000000</td>\n",
       "      <td>...</td>\n",
       "      <td>215.0</td>\n",
       "      <td>APN</td>\n",
       "      <td>7800</td>\n",
       "      <td>3044</td>\n",
       "      <td>6826</td>\n",
       "      <td>probeA</td>\n",
       "      <td></td>\n",
       "      <td>29999.962297</td>\n",
       "      <td>1249.998429</td>\n",
       "      <td>True</td>\n",
       "    </tr>\n",
       "  </tbody>\n",
       "</table>\n",
       "<p>5 rows × 89 columns</p>\n",
       "</div>"
      ],
      "text/plain": [
       "           waveform_spread  silhouette_score  waveform_PT_ratio  \\\n",
       "unit_id                                                           \n",
       "951773968             40.0          0.023816           0.640688   \n",
       "951773987             60.0          0.142609           0.590508   \n",
       "951774009             60.0          0.052454           1.227057   \n",
       "951774042             60.0          0.134882           1.656495   \n",
       "951774078             70.0          0.043923           0.233868   \n",
       "\n",
       "           waveform_amplitude  local_index_unit   L_ratio   d_prime  \\\n",
       "unit_id                                                               \n",
       "951773968          114.786945                 4  0.007553  4.594217   \n",
       "951773987           74.435595                 9  0.014093  3.043791   \n",
       "951774009           61.310730                14  0.012127  2.572846   \n",
       "951774042          129.899055                20  0.000251  4.519415   \n",
       "951774078           84.936930                27  0.002930  4.450108   \n",
       "\n",
       "           amplitude_cutoff  nn_hit_rate  waveform_velocity_above  ...  \\\n",
       "unit_id                                                            ...   \n",
       "951773968          0.029609     0.992667                 0.206030  ...   \n",
       "951773987          0.006487     0.968000                -0.068677  ...   \n",
       "951774009          0.024603     0.979333                -0.343384  ...   \n",
       "951774042          0.000788     0.998000                -0.480737  ...   \n",
       "951774078          0.002083     0.996667                 0.000000  ...   \n",
       "\n",
       "           ecephys_structure_id  ecephys_structure_acronym  \\\n",
       "unit_id                                                      \n",
       "951773968                 215.0                        APN   \n",
       "951773987                 215.0                        APN   \n",
       "951774009                 215.0                        APN   \n",
       "951774042                 215.0                        APN   \n",
       "951774078                 215.0                        APN   \n",
       "\n",
       "           anterior_posterior_ccf_coordinate  dorsal_ventral_ccf_coordinate  \\\n",
       "unit_id                                                                       \n",
       "951773968                               7848                           3152   \n",
       "951773987                               7838                           3129   \n",
       "951774009                               7831                           3114   \n",
       "951774042                               7814                           3075   \n",
       "951774078                               7800                           3044   \n",
       "\n",
       "           left_right_ccf_coordinate  probe_description  location  \\\n",
       "unit_id                                                             \n",
       "951773968                       6806             probeA             \n",
       "951773987                       6810             probeA             \n",
       "951774009                       6813             probeA             \n",
       "951774042                       6820             probeA             \n",
       "951774078                       6826             probeA             \n",
       "\n",
       "           probe_sampling_rate  probe_lfp_sampling_rate  probe_has_lfp_data  \n",
       "unit_id                                                                      \n",
       "951773968         29999.962297              1249.998429                True  \n",
       "951773987         29999.962297              1249.998429                True  \n",
       "951774009         29999.962297              1249.998429                True  \n",
       "951774042         29999.962297              1249.998429                True  \n",
       "951774078         29999.962297              1249.998429                True  \n",
       "\n",
       "[5 rows x 89 columns]"
      ]
     },
     "execution_count": 17,
     "metadata": {},
     "output_type": "execute_result"
    }
   ],
   "source": [
    "session.units.head()"
   ]
  },
  {
   "cell_type": "code",
   "execution_count": 18,
   "metadata": {},
   "outputs": [
    {
     "data": {
      "text/plain": [
       "Index(['waveform_spread', 'silhouette_score', 'waveform_PT_ratio',\n",
       "       'waveform_amplitude', 'local_index_unit', 'L_ratio', 'd_prime',\n",
       "       'amplitude_cutoff', 'nn_hit_rate', 'waveform_velocity_above',\n",
       "       'isi_violations', 'waveform_recovery_slope', 'presence_ratio',\n",
       "       'max_drift', 'waveform_repolarization_slope', 'cumulative_drift',\n",
       "       'waveform_duration', 'snr', 'cluster_id', 'isolation_distance',\n",
       "       'nn_miss_rate', 'firing_rate', 'waveform_halfwidth', 'peak_channel_id',\n",
       "       'waveform_velocity_below', 'c50_dg', 'area_rf', 'fano_dg', 'fano_fl',\n",
       "       'fano_ns', 'fano_rf', 'fano_sg', 'f1_f0_dg', 'g_dsi_dg', 'g_osi_dg',\n",
       "       'g_osi_sg', 'azimuth_rf', 'mod_idx_dg', 'pref_sf_sg', 'pref_tf_dg',\n",
       "       'run_mod_dg', 'run_mod_fl', 'run_mod_ns', 'run_mod_rf', 'run_mod_sg',\n",
       "       'pref_ori_dg', 'pref_ori_sg', 'run_pval_dg', 'run_pval_fl',\n",
       "       'run_pval_ns', 'run_pval_rf', 'run_pval_sg', 'elevation_rf',\n",
       "       'p_value_rf', 'pref_image_ns', 'pref_phase_sg', 'firing_rate_dg',\n",
       "       'firing_rate_fl', 'firing_rate_ns', 'firing_rate_rf', 'firing_rate_sg',\n",
       "       'on_off_ratio_fl', 'time_to_peak_ns', 'pref_sf_multi_sg',\n",
       "       'pref_tf_multi_dg', 'pref_ori_multi_dg', 'pref_ori_multi_sg',\n",
       "       'pref_phase_multi_sg', 'image_selectivity_ns', 'pref_image_multi_ns',\n",
       "       'lifetime_sparseness_dg', 'lifetime_sparseness_fl',\n",
       "       'lifetime_sparseness_ns', 'lifetime_sparseness_rf',\n",
       "       'lifetime_sparseness_sg', 'probe_horizontal_position', 'probe_id',\n",
       "       'channel_local_index', 'probe_vertical_position',\n",
       "       'ecephys_structure_id', 'ecephys_structure_acronym',\n",
       "       'anterior_posterior_ccf_coordinate', 'dorsal_ventral_ccf_coordinate',\n",
       "       'left_right_ccf_coordinate', 'probe_description', 'location',\n",
       "       'probe_sampling_rate', 'probe_lfp_sampling_rate', 'probe_has_lfp_data'],\n",
       "      dtype='object')"
      ]
     },
     "execution_count": 18,
     "metadata": {},
     "output_type": "execute_result"
    }
   ],
   "source": [
    "session.units.columns"
   ]
  },
  {
   "cell_type": "markdown",
   "metadata": {},
   "source": [
    "How many units are in this session?"
   ]
  },
  {
   "cell_type": "code",
   "execution_count": 19,
   "metadata": {},
   "outputs": [
    {
     "data": {
      "text/plain": [
       "659"
      ]
     },
     "execution_count": 19,
     "metadata": {},
     "output_type": "execute_result"
    }
   ],
   "source": [
    "session.units.shape[0]"
   ]
  },
  {
   "cell_type": "markdown",
   "metadata": {},
   "source": [
    "Which areas (structures) are they from?"
   ]
  },
  {
   "cell_type": "code",
   "execution_count": 20,
   "metadata": {},
   "outputs": [
    {
     "name": "stdout",
     "output_type": "stream",
     "text": [
      "['APN' 'DG' 'CA1' 'VIS' 'Eth' 'TH' 'LP' 'POL' 'SGN' 'SUB' 'VISp' 'IGL'\n",
      " 'CA3' 'VISl' 'VPL' 'LGd' 'CA2' 'VISal' 'VISrl']\n"
     ]
    }
   ],
   "source": [
    "print(session.units.ecephys_structure_acronym.unique())"
   ]
  },
  {
   "cell_type": "markdown",
   "metadata": {},
   "source": [
    "How many units per area are there?"
   ]
  },
  {
   "cell_type": "code",
   "execution_count": 21,
   "metadata": {},
   "outputs": [
    {
     "data": {
      "text/plain": [
       "VIS      147\n",
       "CA1      112\n",
       "LP        84\n",
       "Eth       44\n",
       "VISal     41\n",
       "SGN       39\n",
       "VISp      35\n",
       "SUB       34\n",
       "VISrl     26\n",
       "VISl      26\n",
       "APN       20\n",
       "IGL       13\n",
       "DG        10\n",
       "POL        9\n",
       "CA3        9\n",
       "VPL        6\n",
       "TH         2\n",
       "LGd        1\n",
       "CA2        1\n",
       "Name: ecephys_structure_acronym, dtype: int64"
      ]
     },
     "execution_count": 21,
     "metadata": {},
     "output_type": "execute_result"
    }
   ],
   "source": [
    "session.units.ecephys_structure_acronym.value_counts()"
   ]
  },
  {
   "cell_type": "markdown",
   "metadata": {},
   "source": [
    "<div style=\"background: #DFF0D8; border-radius: 3px; padding: 10px;\">\n",
    "<p><b>Task 2.2:</b> Select units from one probe to analyze in more detail.  \n",
    "\n",
    "<p> <code>session.probes</code> contains information about the probes used in this experiment.\n",
    "\n",
    "</div>"
   ]
  },
  {
   "cell_type": "code",
   "execution_count": 22,
   "metadata": {},
   "outputs": [
    {
     "data": {
      "text/html": [
       "<div>\n",
       "<style scoped>\n",
       "    .dataframe tbody tr th:only-of-type {\n",
       "        vertical-align: middle;\n",
       "    }\n",
       "\n",
       "    .dataframe tbody tr th {\n",
       "        vertical-align: top;\n",
       "    }\n",
       "\n",
       "    .dataframe thead th {\n",
       "        text-align: right;\n",
       "    }\n",
       "</style>\n",
       "<table border=\"1\" class=\"dataframe\">\n",
       "  <thead>\n",
       "    <tr style=\"text-align: right;\">\n",
       "      <th></th>\n",
       "      <th>description</th>\n",
       "      <th>location</th>\n",
       "      <th>sampling_rate</th>\n",
       "      <th>lfp_sampling_rate</th>\n",
       "      <th>has_lfp_data</th>\n",
       "    </tr>\n",
       "    <tr>\n",
       "      <th>id</th>\n",
       "      <th></th>\n",
       "      <th></th>\n",
       "      <th></th>\n",
       "      <th></th>\n",
       "      <th></th>\n",
       "    </tr>\n",
       "  </thead>\n",
       "  <tbody>\n",
       "    <tr>\n",
       "      <td>757904508</td>\n",
       "      <td>probeA</td>\n",
       "      <td></td>\n",
       "      <td>29999.962297</td>\n",
       "      <td>1249.998429</td>\n",
       "      <td>True</td>\n",
       "    </tr>\n",
       "    <tr>\n",
       "      <td>757904510</td>\n",
       "      <td>probeB</td>\n",
       "      <td></td>\n",
       "      <td>29999.910883</td>\n",
       "      <td>1249.996287</td>\n",
       "      <td>True</td>\n",
       "    </tr>\n",
       "    <tr>\n",
       "      <td>757904513</td>\n",
       "      <td>probeC</td>\n",
       "      <td></td>\n",
       "      <td>29999.991452</td>\n",
       "      <td>1249.999644</td>\n",
       "      <td>True</td>\n",
       "    </tr>\n",
       "    <tr>\n",
       "      <td>757904516</td>\n",
       "      <td>probeD</td>\n",
       "      <td></td>\n",
       "      <td>29999.916422</td>\n",
       "      <td>1249.996518</td>\n",
       "      <td>True</td>\n",
       "    </tr>\n",
       "    <tr>\n",
       "      <td>757904520</td>\n",
       "      <td>probeE</td>\n",
       "      <td></td>\n",
       "      <td>29999.992669</td>\n",
       "      <td>1249.999695</td>\n",
       "      <td>True</td>\n",
       "    </tr>\n",
       "    <tr>\n",
       "      <td>757904522</td>\n",
       "      <td>probeF</td>\n",
       "      <td></td>\n",
       "      <td>30000.034924</td>\n",
       "      <td>1250.001455</td>\n",
       "      <td>True</td>\n",
       "    </tr>\n",
       "  </tbody>\n",
       "</table>\n",
       "</div>"
      ],
      "text/plain": [
       "          description location  sampling_rate  lfp_sampling_rate  has_lfp_data\n",
       "id                                                                            \n",
       "757904508      probeA            29999.962297        1249.998429          True\n",
       "757904510      probeB            29999.910883        1249.996287          True\n",
       "757904513      probeC            29999.991452        1249.999644          True\n",
       "757904516      probeD            29999.916422        1249.996518          True\n",
       "757904520      probeE            29999.992669        1249.999695          True\n",
       "757904522      probeF            30000.034924        1250.001455          True"
      ]
     },
     "execution_count": 22,
     "metadata": {},
     "output_type": "execute_result"
    }
   ],
   "source": [
    "session.probes"
   ]
  },
  {
   "cell_type": "markdown",
   "metadata": {},
   "source": [
    "Let's select probeC, which is typically inserted through primary visual cortex (VISp)."
   ]
  },
  {
   "cell_type": "code",
   "execution_count": 23,
   "metadata": {},
   "outputs": [
    {
     "data": {
      "text/plain": [
       "131"
      ]
     },
     "execution_count": 23,
     "metadata": {},
     "output_type": "execute_result"
    }
   ],
   "source": [
    "probe_id = session.probes.index.values[2]\n",
    "units_to_analyze = session.units[session.units.probe_id == session.probes.index.values[2]]\n",
    "len(units_to_analyze)"
   ]
  },
  {
   "cell_type": "code",
   "execution_count": 24,
   "metadata": {},
   "outputs": [
    {
     "data": {
      "text/plain": [
       "SGN     39\n",
       "VISp    35\n",
       "SUB     34\n",
       "LP      23\n",
       "Name: ecephys_structure_acronym, dtype: int64"
      ]
     },
     "execution_count": 24,
     "metadata": {},
     "output_type": "execute_result"
    }
   ],
   "source": [
    "units_to_analyze.ecephys_structure_acronym.value_counts()"
   ]
  },
  {
   "cell_type": "markdown",
   "metadata": {},
   "source": [
    "<div style=\"background: #DFF0D8; border-radius: 3px; padding: 10px;\">\n",
    "<p><b>Task 2.3:</b> Compare the firing rate of units in different structures\n",
    "\n",
    "<p> Make a violinplot of the overall firing rates of units across structures.\n",
    "\n",
    "</div>"
   ]
  },
  {
   "cell_type": "code",
   "execution_count": 25,
   "metadata": {},
   "outputs": [],
   "source": [
    "import seaborn as sns"
   ]
  },
  {
   "cell_type": "code",
   "execution_count": 26,
   "metadata": {},
   "outputs": [
    {
     "data": {
      "text/plain": [
       "<matplotlib.axes._subplots.AxesSubplot at 0x7f5cd3bfd110>"
      ]
     },
     "execution_count": 26,
     "metadata": {},
     "output_type": "execute_result"
    },
    {
     "data": {
      "image/png": "[encoded data removed]",
      "text/plain": [
       "<Figure size 432x432 with 1 Axes>"
      ]
     },
     "metadata": {
      "needs_background": "light"
     },
     "output_type": "display_data"
    }
   ],
   "source": [
    "plt.figure(figsize=(6,6))\n",
    "sns.violinplot(y='firing_rate', x='ecephys_structure_acronym',cut=0, bw=0.4, data=units_to_analyze)"
   ]
  },
  {
   "cell_type": "markdown",
   "metadata": {},
   "source": [
    "<div style=\"background: #DFF0D8; border-radius: 3px; padding: 10px;\">\n",
    "<p><b>Task 2.4:</b> Plot the location of the units on the probe\n",
    "\n",
    "<p> Color each structure a different color. What do you learn about the vertical position values?\n",
    "\n",
    "</div>"
   ]
  },
  {
   "cell_type": "code",
   "execution_count": 27,
   "metadata": {},
   "outputs": [
    {
     "data": {
      "image/png": "[encoded data removed]",
      "text/plain": [
       "<Figure size 576x432 with 1 Axes>"
      ]
     },
     "metadata": {
      "needs_background": "light"
     },
     "output_type": "display_data"
    }
   ],
   "source": [
    "plt.figure(figsize=(8,6))\n",
    "for structure in units_to_analyze.ecephys_structure_acronym.unique():\n",
    "    plt.hist(units_to_analyze[units_to_analyze.ecephys_structure_acronym==structure].probe_vertical_position.values, bins=50, range=(0,3200), label=structure)\n",
    "plt.legend()\n",
    "plt.xlabel('Probe vertical position (mm)', fontsize=16)\n",
    "plt.ylabel('Unit count', fontsize=16)\n",
    "plt.show()"
   ]
  },
  {
   "cell_type": "markdown",
   "metadata": {},
   "source": [
    "<div style=\"border-left: 3px solid #000; padding: 1px; padding-left: 25px; padding-right: 25px; padding-top:25px; padding-bottom:25px; background: #F0FAFF; \">\n",
    "    \n",
    "<h2> 3. Spike times</h2>\n",
    "\n",
    "<p> To analyze the spike times, we first have to access them.\n",
    "\n",
    "</div>\n"
   ]
  },
  {
   "cell_type": "markdown",
   "metadata": {},
   "source": [
    "<div style=\"background: #DFF0D8; border-radius: 3px; padding: 10px;\">\n",
    "<p><b>Task 3.1: Spike Times</b>\n",
    "\n",
    "<p> Next let's find the `spike_times` for these units.\n",
    "\n",
    "</div>"
   ]
  },
  {
   "cell_type": "code",
   "execution_count": 28,
   "metadata": {},
   "outputs": [],
   "source": [
    "spike_times = session.spike_times"
   ]
  },
  {
   "cell_type": "markdown",
   "metadata": {},
   "source": [
    "What type of object is this?"
   ]
  },
  {
   "cell_type": "code",
   "execution_count": 29,
   "metadata": {},
   "outputs": [
    {
     "data": {
      "text/plain": [
       "dict"
      ]
     },
     "execution_count": 29,
     "metadata": {},
     "output_type": "execute_result"
    }
   ],
   "source": [
    "type(spike_times)"
   ]
  },
  {
   "cell_type": "markdown",
   "metadata": {},
   "source": [
    "How many items does it include?"
   ]
  },
  {
   "cell_type": "code",
   "execution_count": 30,
   "metadata": {},
   "outputs": [
    {
     "data": {
      "text/plain": [
       "659"
      ]
     },
     "execution_count": 30,
     "metadata": {},
     "output_type": "execute_result"
    }
   ],
   "source": [
    "len(spike_times)"
   ]
  },
  {
   "cell_type": "code",
   "execution_count": 31,
   "metadata": {},
   "outputs": [
    {
     "data": {
      "text/plain": [
       "659"
      ]
     },
     "execution_count": 31,
     "metadata": {},
     "output_type": "execute_result"
    }
   ],
   "source": [
    "len(session.units)"
   ]
  },
  {
   "cell_type": "markdown",
   "metadata": {},
   "source": [
    "What are the keys for this object?"
   ]
  },
  {
   "cell_type": "code",
   "execution_count": 32,
   "metadata": {},
   "outputs": [
    {
     "data": {
      "text/plain": [
       "[951775418, 951775411, 951775390, 951775354, 951775615]"
      ]
     },
     "execution_count": 32,
     "metadata": {},
     "output_type": "execute_result"
    }
   ],
   "source": [
    "list(spike_times.keys())[:5]"
   ]
  },
  {
   "cell_type": "markdown",
   "metadata": {},
   "source": [
    "These keys are unit ids. Use the unit_id for the first unit to get the spike times for that unit. How many spikes does it have in the entire session?"
   ]
  },
  {
   "cell_type": "code",
   "execution_count": 33,
   "metadata": {},
   "outputs": [
    {
     "data": {
      "text/plain": [
       "array([3.85575038e+00, 3.89721710e+00, 4.25975089e+00, ...,\n",
       "       9.66184565e+03, 9.66188526e+03, 9.66192432e+03])"
      ]
     },
     "execution_count": 33,
     "metadata": {},
     "output_type": "execute_result"
    }
   ],
   "source": [
    "spike_times[session.units.index[0]]"
   ]
  },
  {
   "cell_type": "code",
   "execution_count": 34,
   "metadata": {},
   "outputs": [
    {
     "name": "stdout",
     "output_type": "stream",
     "text": [
      "341188\n"
     ]
    }
   ],
   "source": [
    "print(len(spike_times[session.units.index[0]]))"
   ]
  },
  {
   "cell_type": "markdown",
   "metadata": {},
   "source": [
    "<div style=\"background: #DFF0D8; border-radius: 3px; padding: 10px;\">\n",
    "<p><b>Task 3.2:</b> Plot the firing rate for one unit\n",
    "\n",
    "<p> Use the spike times dictionary to plot the activity for one unit over the entire session.\n",
    "\n",
    "</div>"
   ]
  },
  {
   "cell_type": "code",
   "execution_count": 35,
   "metadata": {},
   "outputs": [
    {
     "data": {
      "image/png": "[encoded data removed]",
      "text/plain": [
       "<Figure size 720x216 with 1 Axes>"
      ]
     },
     "metadata": {
      "needs_background": "light"
     },
     "output_type": "display_data"
    }
   ],
   "source": [
    "T = spike_times[session.units.index[0]]\n",
    "\n",
    "bin_size = 60 # bin size in seconds\n",
    "counts, bins = np.histogram(T, bins = np.arange(np.min(T), np.max(T), bin_size))\n",
    "\n",
    "plt.figure(figsize=(10,3))\n",
    "plt.bar(bins[:-1], counts/bin_size, width=bin_size)\n",
    "plt.xlabel('Time (s)')\n",
    "plt.ylabel('Firing rate (Hz)')\n",
    "plt.show()"
   ]
  },
  {
   "cell_type": "markdown",
   "metadata": {},
   "source": [
    "<div style=\"border-left: 3px solid #000; padding: 1px; padding-left: 25px; padding-right: 25px; padding-top:25px; padding-bottom:25px; background: #F0FAFF; \">\n",
    "    \n",
    "<h2> 4. Visual stimuli</h2>\n",
    "\n",
    "<p> A variety of visual stimuli were presented throughout the recording session, and the session object contains detailed information about what stimuli were presented when.\n",
    "\n",
    "</div>"
   ]
  },
  {
   "cell_type": "markdown",
   "metadata": {},
   "source": [
    "<div style=\"background: #DFF0D8; border-radius: 3px; padding: 10px;\">\n",
    "<p><b>Task 4.1: Stimulus</b>\n",
    "\n",
    "<p> What stimuli were presented in this session? Find the `stimulus_names` for the session.\n",
    "\n",
    "</div>"
   ]
  },
  {
   "cell_type": "code",
   "execution_count": 36,
   "metadata": {},
   "outputs": [
    {
     "data": {
      "text/plain": [
       "['spontaneous',\n",
       " 'gabors',\n",
       " 'flashes',\n",
       " 'drifting_gratings',\n",
       " 'natural_movie_three',\n",
       " 'natural_movie_one',\n",
       " 'static_gratings',\n",
       " 'natural_scenes']"
      ]
     },
     "execution_count": 36,
     "metadata": {},
     "output_type": "execute_result"
    }
   ],
   "source": [
    "session.stimulus_names"
   ]
  },
  {
   "cell_type": "markdown",
   "metadata": {},
   "source": [
    "<div style=\"background: #DFF0D8; border-radius: 3px; padding: 10px;\">\n",
    "<p><b>Task 4.2:</b> Stimulus epochs\n",
    "\n",
    "<p> These stimuli are interleaved throughout the session. We can use the `stimulus_epochs` to see when each stimulus type was presented. Then we'll make a plot of all of the stimulus blocks.\n",
    "\n",
    "</div>"
   ]
  },
  {
   "cell_type": "code",
   "execution_count": 37,
   "metadata": {},
   "outputs": [
    {
     "data": {
      "text/html": [
       "<div>\n",
       "<style scoped>\n",
       "    .dataframe tbody tr th:only-of-type {\n",
       "        vertical-align: middle;\n",
       "    }\n",
       "\n",
       "    .dataframe tbody tr th {\n",
       "        vertical-align: top;\n",
       "    }\n",
       "\n",
       "    .dataframe thead th {\n",
       "        text-align: right;\n",
       "    }\n",
       "</style>\n",
       "<table border=\"1\" class=\"dataframe\">\n",
       "  <thead>\n",
       "    <tr style=\"text-align: right;\">\n",
       "      <th></th>\n",
       "      <th>start_time</th>\n",
       "      <th>stop_time</th>\n",
       "      <th>duration</th>\n",
       "      <th>stimulus_name</th>\n",
       "      <th>stimulus_block</th>\n",
       "    </tr>\n",
       "  </thead>\n",
       "  <tbody>\n",
       "    <tr>\n",
       "      <td>0</td>\n",
       "      <td>24.567300</td>\n",
       "      <td>84.634040</td>\n",
       "      <td>60.066740</td>\n",
       "      <td>spontaneous</td>\n",
       "      <td>null</td>\n",
       "    </tr>\n",
       "    <tr>\n",
       "      <td>1</td>\n",
       "      <td>84.634040</td>\n",
       "      <td>996.629133</td>\n",
       "      <td>911.995093</td>\n",
       "      <td>gabors</td>\n",
       "      <td>0</td>\n",
       "    </tr>\n",
       "    <tr>\n",
       "      <td>2</td>\n",
       "      <td>996.629133</td>\n",
       "      <td>1285.620550</td>\n",
       "      <td>288.991417</td>\n",
       "      <td>spontaneous</td>\n",
       "      <td>null</td>\n",
       "    </tr>\n",
       "    <tr>\n",
       "      <td>3</td>\n",
       "      <td>1285.620550</td>\n",
       "      <td>1584.119875</td>\n",
       "      <td>298.499325</td>\n",
       "      <td>flashes</td>\n",
       "      <td>1</td>\n",
       "    </tr>\n",
       "    <tr>\n",
       "      <td>4</td>\n",
       "      <td>1584.119875</td>\n",
       "      <td>1585.871400</td>\n",
       "      <td>1.751525</td>\n",
       "      <td>spontaneous</td>\n",
       "      <td>null</td>\n",
       "    </tr>\n",
       "    <tr>\n",
       "      <td>5</td>\n",
       "      <td>1585.871400</td>\n",
       "      <td>2185.372171</td>\n",
       "      <td>599.500771</td>\n",
       "      <td>drifting_gratings</td>\n",
       "      <td>2</td>\n",
       "    </tr>\n",
       "    <tr>\n",
       "      <td>6</td>\n",
       "      <td>2185.372171</td>\n",
       "      <td>2216.398120</td>\n",
       "      <td>31.025949</td>\n",
       "      <td>spontaneous</td>\n",
       "      <td>null</td>\n",
       "    </tr>\n",
       "    <tr>\n",
       "      <td>7</td>\n",
       "      <td>2216.398120</td>\n",
       "      <td>2816.899750</td>\n",
       "      <td>600.501630</td>\n",
       "      <td>natural_movie_three</td>\n",
       "      <td>3</td>\n",
       "    </tr>\n",
       "    <tr>\n",
       "      <td>8</td>\n",
       "      <td>2816.899750</td>\n",
       "      <td>2846.924840</td>\n",
       "      <td>30.025090</td>\n",
       "      <td>spontaneous</td>\n",
       "      <td>null</td>\n",
       "    </tr>\n",
       "    <tr>\n",
       "      <td>9</td>\n",
       "      <td>2846.924840</td>\n",
       "      <td>3147.175650</td>\n",
       "      <td>300.250810</td>\n",
       "      <td>natural_movie_one</td>\n",
       "      <td>4</td>\n",
       "    </tr>\n",
       "    <tr>\n",
       "      <td>10</td>\n",
       "      <td>3147.175650</td>\n",
       "      <td>3177.200720</td>\n",
       "      <td>30.025070</td>\n",
       "      <td>spontaneous</td>\n",
       "      <td>null</td>\n",
       "    </tr>\n",
       "    <tr>\n",
       "      <td>11</td>\n",
       "      <td>3177.200720</td>\n",
       "      <td>3776.701541</td>\n",
       "      <td>599.500821</td>\n",
       "      <td>drifting_gratings</td>\n",
       "      <td>5</td>\n",
       "    </tr>\n",
       "    <tr>\n",
       "      <td>12</td>\n",
       "      <td>3776.701541</td>\n",
       "      <td>4077.953240</td>\n",
       "      <td>301.251699</td>\n",
       "      <td>spontaneous</td>\n",
       "      <td>null</td>\n",
       "    </tr>\n",
       "    <tr>\n",
       "      <td>13</td>\n",
       "      <td>4077.953240</td>\n",
       "      <td>4678.455140</td>\n",
       "      <td>600.501900</td>\n",
       "      <td>natural_movie_three</td>\n",
       "      <td>6</td>\n",
       "    </tr>\n",
       "    <tr>\n",
       "      <td>14</td>\n",
       "      <td>4678.455140</td>\n",
       "      <td>4708.480240</td>\n",
       "      <td>30.025100</td>\n",
       "      <td>spontaneous</td>\n",
       "      <td>null</td>\n",
       "    </tr>\n",
       "    <tr>\n",
       "      <td>15</td>\n",
       "      <td>4708.480240</td>\n",
       "      <td>5398.056701</td>\n",
       "      <td>689.576461</td>\n",
       "      <td>drifting_gratings</td>\n",
       "      <td>7</td>\n",
       "    </tr>\n",
       "    <tr>\n",
       "      <td>16</td>\n",
       "      <td>5398.056701</td>\n",
       "      <td>5399.057530</td>\n",
       "      <td>1.000829</td>\n",
       "      <td>spontaneous</td>\n",
       "      <td>null</td>\n",
       "    </tr>\n",
       "    <tr>\n",
       "      <td>17</td>\n",
       "      <td>5399.057530</td>\n",
       "      <td>5879.459070</td>\n",
       "      <td>480.401540</td>\n",
       "      <td>static_gratings</td>\n",
       "      <td>8</td>\n",
       "    </tr>\n",
       "    <tr>\n",
       "      <td>18</td>\n",
       "      <td>5879.459070</td>\n",
       "      <td>5909.484160</td>\n",
       "      <td>30.025090</td>\n",
       "      <td>spontaneous</td>\n",
       "      <td>null</td>\n",
       "    </tr>\n",
       "    <tr>\n",
       "      <td>19</td>\n",
       "      <td>5909.484160</td>\n",
       "      <td>6389.885600</td>\n",
       "      <td>480.401440</td>\n",
       "      <td>natural_scenes</td>\n",
       "      <td>9</td>\n",
       "    </tr>\n",
       "    <tr>\n",
       "      <td>20</td>\n",
       "      <td>6389.885600</td>\n",
       "      <td>6690.136480</td>\n",
       "      <td>300.250880</td>\n",
       "      <td>spontaneous</td>\n",
       "      <td>null</td>\n",
       "    </tr>\n",
       "    <tr>\n",
       "      <td>21</td>\n",
       "      <td>6690.136480</td>\n",
       "      <td>7170.537810</td>\n",
       "      <td>480.401330</td>\n",
       "      <td>natural_scenes</td>\n",
       "      <td>10</td>\n",
       "    </tr>\n",
       "    <tr>\n",
       "      <td>22</td>\n",
       "      <td>7170.537810</td>\n",
       "      <td>7200.562880</td>\n",
       "      <td>30.025070</td>\n",
       "      <td>spontaneous</td>\n",
       "      <td>null</td>\n",
       "    </tr>\n",
       "    <tr>\n",
       "      <td>23</td>\n",
       "      <td>7200.562880</td>\n",
       "      <td>7680.964230</td>\n",
       "      <td>480.401350</td>\n",
       "      <td>static_gratings</td>\n",
       "      <td>11</td>\n",
       "    </tr>\n",
       "    <tr>\n",
       "      <td>24</td>\n",
       "      <td>7680.964230</td>\n",
       "      <td>7710.989290</td>\n",
       "      <td>30.025060</td>\n",
       "      <td>spontaneous</td>\n",
       "      <td>null</td>\n",
       "    </tr>\n",
       "    <tr>\n",
       "      <td>25</td>\n",
       "      <td>7710.989290</td>\n",
       "      <td>8011.240130</td>\n",
       "      <td>300.250840</td>\n",
       "      <td>natural_movie_one</td>\n",
       "      <td>12</td>\n",
       "    </tr>\n",
       "    <tr>\n",
       "      <td>26</td>\n",
       "      <td>8011.240130</td>\n",
       "      <td>8041.265210</td>\n",
       "      <td>30.025080</td>\n",
       "      <td>spontaneous</td>\n",
       "      <td>null</td>\n",
       "    </tr>\n",
       "    <tr>\n",
       "      <td>27</td>\n",
       "      <td>8041.265210</td>\n",
       "      <td>8569.206205</td>\n",
       "      <td>527.940995</td>\n",
       "      <td>natural_scenes</td>\n",
       "      <td>13</td>\n",
       "    </tr>\n",
       "    <tr>\n",
       "      <td>28</td>\n",
       "      <td>8569.206205</td>\n",
       "      <td>8611.741730</td>\n",
       "      <td>42.535525</td>\n",
       "      <td>spontaneous</td>\n",
       "      <td>null</td>\n",
       "    </tr>\n",
       "    <tr>\n",
       "      <td>29</td>\n",
       "      <td>8611.741730</td>\n",
       "      <td>9152.193170</td>\n",
       "      <td>540.451440</td>\n",
       "      <td>static_gratings</td>\n",
       "      <td>14</td>\n",
       "    </tr>\n",
       "  </tbody>\n",
       "</table>\n",
       "</div>"
      ],
      "text/plain": [
       "     start_time    stop_time    duration        stimulus_name stimulus_block\n",
       "0     24.567300    84.634040   60.066740          spontaneous           null\n",
       "1     84.634040   996.629133  911.995093               gabors              0\n",
       "2    996.629133  1285.620550  288.991417          spontaneous           null\n",
       "3   1285.620550  1584.119875  298.499325              flashes              1\n",
       "4   1584.119875  1585.871400    1.751525          spontaneous           null\n",
       "5   1585.871400  2185.372171  599.500771    drifting_gratings              2\n",
       "6   2185.372171  2216.398120   31.025949          spontaneous           null\n",
       "7   2216.398120  2816.899750  600.501630  natural_movie_three              3\n",
       "8   2816.899750  2846.924840   30.025090          spontaneous           null\n",
       "9   2846.924840  3147.175650  300.250810    natural_movie_one              4\n",
       "10  3147.175650  3177.200720   30.025070          spontaneous           null\n",
       "11  3177.200720  3776.701541  599.500821    drifting_gratings              5\n",
       "12  3776.701541  4077.953240  301.251699          spontaneous           null\n",
       "13  4077.953240  4678.455140  600.501900  natural_movie_three              6\n",
       "14  4678.455140  4708.480240   30.025100          spontaneous           null\n",
       "15  4708.480240  5398.056701  689.576461    drifting_gratings              7\n",
       "16  5398.056701  5399.057530    1.000829          spontaneous           null\n",
       "17  5399.057530  5879.459070  480.401540      static_gratings              8\n",
       "18  5879.459070  5909.484160   30.025090          spontaneous           null\n",
       "19  5909.484160  6389.885600  480.401440       natural_scenes              9\n",
       "20  6389.885600  6690.136480  300.250880          spontaneous           null\n",
       "21  6690.136480  7170.537810  480.401330       natural_scenes             10\n",
       "22  7170.537810  7200.562880   30.025070          spontaneous           null\n",
       "23  7200.562880  7680.964230  480.401350      static_gratings             11\n",
       "24  7680.964230  7710.989290   30.025060          spontaneous           null\n",
       "25  7710.989290  8011.240130  300.250840    natural_movie_one             12\n",
       "26  8011.240130  8041.265210   30.025080          spontaneous           null\n",
       "27  8041.265210  8569.206205  527.940995       natural_scenes             13\n",
       "28  8569.206205  8611.741730   42.535525          spontaneous           null\n",
       "29  8611.741730  9152.193170  540.451440      static_gratings             14"
      ]
     },
     "execution_count": 37,
     "metadata": {},
     "output_type": "execute_result"
    }
   ],
   "source": [
    "stimulus_epochs = session.get_stimulus_epochs()\n",
    "stimulus_epochs"
   ]
  },
  {
   "cell_type": "markdown",
   "metadata": {},
   "source": [
    "Plot a summary of the stimuli for the whole session, with each stimulus marked with a unique color. The <b>plt.axvspan()</b> is a useful function for this."
   ]
  },
  {
   "cell_type": "code",
   "execution_count": 38,
   "metadata": {},
   "outputs": [
    {
     "data": {
      "image/png": "[encoded data removed]",
      "text/plain": [
       "<Figure size 1080x18 with 1 Axes>"
      ]
     },
     "metadata": {
      "needs_background": "light"
     },
     "output_type": "display_data"
    }
   ],
   "source": [
    "plt.figure(figsize=(15,0.25))\n",
    "\n",
    "color_mapping = {\n",
    "    'spontaneous' : 'white',\n",
    "    'gabors' : 'green',\n",
    "    'flashes' : 'darkgray',\n",
    "    'drifting_gratings' : 'darkgoldenrod',\n",
    "    'natural_movie_three' : 'purple',\n",
    "    'natural_movie_one' : 'darkmagenta',\n",
    "    'static_gratings' : 'darkturquoise',\n",
    "    'natural_scenes' : 'orangered'\n",
    "}\n",
    "\n",
    "for c, stim_name in enumerate(session.stimulus_names):\n",
    "    stim = stimulus_epochs[stimulus_epochs.stimulus_name==stim_name]\n",
    "    for j in range(len(stim)):\n",
    "        plt.axvspan(xmin=stim[\"start_time\"].iloc[j], \n",
    "                    xmax=stim[\"stop_time\"].iloc[j], \n",
    "                    color=color_mapping.get(stim_name, 'gray'), \n",
    "                    alpha=0.9)\n",
    "plt.axis('off')\n",
    "plt.show()"
   ]
  },
  {
   "cell_type": "markdown",
   "metadata": {},
   "source": [
    "Now let's dig into one particular stimulus in more detail."
   ]
  },
  {
   "cell_type": "markdown",
   "metadata": {},
   "source": [
    "<div style=\"background: #DFF0D8; border-radius: 3px; padding: 10px;\">\n",
    "<p><b>Task 4.3:</b> Stimulus presentations\n",
    "\n",
    "<p> Now let's go back and learn more about the stimulus that was presented. The session object has a function that returns a table for a given stimulus called `get_presentations_for_stimulus`. \n",
    "\n",
    "Use this to get the stimulus table for drifting gratings and for natural scenes. What information do these tables provide? How are they different?\n",
    "\n",
    "</div>\n"
   ]
  },
  {
   "cell_type": "code",
   "execution_count": 39,
   "metadata": {},
   "outputs": [
    {
     "data": {
      "text/html": [
       "<div>\n",
       "<style scoped>\n",
       "    .dataframe tbody tr th:only-of-type {\n",
       "        vertical-align: middle;\n",
       "    }\n",
       "\n",
       "    .dataframe tbody tr th {\n",
       "        vertical-align: top;\n",
       "    }\n",
       "\n",
       "    .dataframe thead th {\n",
       "        text-align: right;\n",
       "    }\n",
       "</style>\n",
       "<table border=\"1\" class=\"dataframe\">\n",
       "  <thead>\n",
       "    <tr style=\"text-align: right;\">\n",
       "      <th></th>\n",
       "      <th>color</th>\n",
       "      <th>contrast</th>\n",
       "      <th>frame</th>\n",
       "      <th>orientation</th>\n",
       "      <th>phase</th>\n",
       "      <th>pos</th>\n",
       "      <th>size</th>\n",
       "      <th>spatial_frequency</th>\n",
       "      <th>start_time</th>\n",
       "      <th>stimulus_block</th>\n",
       "      <th>stimulus_name</th>\n",
       "      <th>stop_time</th>\n",
       "      <th>temporal_frequency</th>\n",
       "      <th>x_position</th>\n",
       "      <th>y_position</th>\n",
       "      <th>duration</th>\n",
       "      <th>stimulus_condition_id</th>\n",
       "    </tr>\n",
       "    <tr>\n",
       "      <th>stimulus_presentation_id</th>\n",
       "      <th></th>\n",
       "      <th></th>\n",
       "      <th></th>\n",
       "      <th></th>\n",
       "      <th></th>\n",
       "      <th></th>\n",
       "      <th></th>\n",
       "      <th></th>\n",
       "      <th></th>\n",
       "      <th></th>\n",
       "      <th></th>\n",
       "      <th></th>\n",
       "      <th></th>\n",
       "      <th></th>\n",
       "      <th></th>\n",
       "      <th></th>\n",
       "      <th></th>\n",
       "    </tr>\n",
       "  </thead>\n",
       "  <tbody>\n",
       "    <tr>\n",
       "      <td>3798</td>\n",
       "      <td>null</td>\n",
       "      <td>0.8</td>\n",
       "      <td>null</td>\n",
       "      <td>180</td>\n",
       "      <td>[10617.96666667, 10617.96666667]</td>\n",
       "      <td>[0.0, 0.0]</td>\n",
       "      <td>[250.0, 250.0]</td>\n",
       "      <td>0.04</td>\n",
       "      <td>1585.871400</td>\n",
       "      <td>2</td>\n",
       "      <td>drifting_gratings</td>\n",
       "      <td>1587.873040</td>\n",
       "      <td>4</td>\n",
       "      <td>null</td>\n",
       "      <td>null</td>\n",
       "      <td>2.00164</td>\n",
       "      <td>246</td>\n",
       "    </tr>\n",
       "    <tr>\n",
       "      <td>3799</td>\n",
       "      <td>null</td>\n",
       "      <td>0.8</td>\n",
       "      <td>null</td>\n",
       "      <td>225</td>\n",
       "      <td>[10617.96666667, 10617.96666667]</td>\n",
       "      <td>[0.0, 0.0]</td>\n",
       "      <td>[250.0, 250.0]</td>\n",
       "      <td>0.04</td>\n",
       "      <td>1588.873861</td>\n",
       "      <td>2</td>\n",
       "      <td>drifting_gratings</td>\n",
       "      <td>1590.875541</td>\n",
       "      <td>2</td>\n",
       "      <td>null</td>\n",
       "      <td>null</td>\n",
       "      <td>2.00168</td>\n",
       "      <td>247</td>\n",
       "    </tr>\n",
       "    <tr>\n",
       "      <td>3800</td>\n",
       "      <td>null</td>\n",
       "      <td>0.8</td>\n",
       "      <td>null</td>\n",
       "      <td>270</td>\n",
       "      <td>[10617.96666667, 10617.96666667]</td>\n",
       "      <td>[0.0, 0.0]</td>\n",
       "      <td>[250.0, 250.0]</td>\n",
       "      <td>0.04</td>\n",
       "      <td>1591.876370</td>\n",
       "      <td>2</td>\n",
       "      <td>drifting_gratings</td>\n",
       "      <td>1593.878070</td>\n",
       "      <td>8</td>\n",
       "      <td>null</td>\n",
       "      <td>null</td>\n",
       "      <td>2.00170</td>\n",
       "      <td>248</td>\n",
       "    </tr>\n",
       "    <tr>\n",
       "      <td>3801</td>\n",
       "      <td>null</td>\n",
       "      <td>0.8</td>\n",
       "      <td>null</td>\n",
       "      <td>270</td>\n",
       "      <td>[10617.96666667, 10617.96666667]</td>\n",
       "      <td>[0.0, 0.0]</td>\n",
       "      <td>[250.0, 250.0]</td>\n",
       "      <td>0.04</td>\n",
       "      <td>1594.878871</td>\n",
       "      <td>2</td>\n",
       "      <td>drifting_gratings</td>\n",
       "      <td>1596.880561</td>\n",
       "      <td>1</td>\n",
       "      <td>null</td>\n",
       "      <td>null</td>\n",
       "      <td>2.00169</td>\n",
       "      <td>249</td>\n",
       "    </tr>\n",
       "    <tr>\n",
       "      <td>3802</td>\n",
       "      <td>null</td>\n",
       "      <td>0.8</td>\n",
       "      <td>null</td>\n",
       "      <td>315</td>\n",
       "      <td>[10617.96666667, 10617.96666667]</td>\n",
       "      <td>[0.0, 0.0]</td>\n",
       "      <td>[250.0, 250.0]</td>\n",
       "      <td>0.04</td>\n",
       "      <td>1597.881410</td>\n",
       "      <td>2</td>\n",
       "      <td>drifting_gratings</td>\n",
       "      <td>1599.883070</td>\n",
       "      <td>1</td>\n",
       "      <td>null</td>\n",
       "      <td>null</td>\n",
       "      <td>2.00166</td>\n",
       "      <td>250</td>\n",
       "    </tr>\n",
       "  </tbody>\n",
       "</table>\n",
       "</div>"
      ],
      "text/plain": [
       "                         color contrast frame orientation  \\\n",
       "stimulus_presentation_id                                    \n",
       "3798                      null      0.8  null         180   \n",
       "3799                      null      0.8  null         225   \n",
       "3800                      null      0.8  null         270   \n",
       "3801                      null      0.8  null         270   \n",
       "3802                      null      0.8  null         315   \n",
       "\n",
       "                                                     phase         pos  \\\n",
       "stimulus_presentation_id                                                 \n",
       "3798                      [10617.96666667, 10617.96666667]  [0.0, 0.0]   \n",
       "3799                      [10617.96666667, 10617.96666667]  [0.0, 0.0]   \n",
       "3800                      [10617.96666667, 10617.96666667]  [0.0, 0.0]   \n",
       "3801                      [10617.96666667, 10617.96666667]  [0.0, 0.0]   \n",
       "3802                      [10617.96666667, 10617.96666667]  [0.0, 0.0]   \n",
       "\n",
       "                                    size spatial_frequency   start_time  \\\n",
       "stimulus_presentation_id                                                  \n",
       "3798                      [250.0, 250.0]              0.04  1585.871400   \n",
       "3799                      [250.0, 250.0]              0.04  1588.873861   \n",
       "3800                      [250.0, 250.0]              0.04  1591.876370   \n",
       "3801                      [250.0, 250.0]              0.04  1594.878871   \n",
       "3802                      [250.0, 250.0]              0.04  1597.881410   \n",
       "\n",
       "                         stimulus_block      stimulus_name    stop_time  \\\n",
       "stimulus_presentation_id                                                  \n",
       "3798                                  2  drifting_gratings  1587.873040   \n",
       "3799                                  2  drifting_gratings  1590.875541   \n",
       "3800                                  2  drifting_gratings  1593.878070   \n",
       "3801                                  2  drifting_gratings  1596.880561   \n",
       "3802                                  2  drifting_gratings  1599.883070   \n",
       "\n",
       "                         temporal_frequency x_position y_position  duration  \\\n",
       "stimulus_presentation_id                                                      \n",
       "3798                                      4       null       null   2.00164   \n",
       "3799                                      2       null       null   2.00168   \n",
       "3800                                      8       null       null   2.00170   \n",
       "3801                                      1       null       null   2.00169   \n",
       "3802                                      1       null       null   2.00166   \n",
       "\n",
       "                          stimulus_condition_id  \n",
       "stimulus_presentation_id                         \n",
       "3798                                        246  \n",
       "3799                                        247  \n",
       "3800                                        248  \n",
       "3801                                        249  \n",
       "3802                                        250  "
      ]
     },
     "execution_count": 39,
     "metadata": {},
     "output_type": "execute_result"
    }
   ],
   "source": [
    "stim_table = session.stimulus_presentations\n",
    "\n",
    "drifting_gratings_table = stim_table[stim_table.stimulus_name == 'drifting_gratings']\n",
    "drifting_gratings_table.head()\n"
   ]
  },
  {
   "cell_type": "markdown",
   "metadata": {},
   "source": [
    "What range of parameters are used for this stimulus?"
   ]
  },
  {
   "cell_type": "code",
   "execution_count": 40,
   "metadata": {},
   "outputs": [
    {
     "data": {
      "text/plain": [
       "array([180.0, 225.0, 270.0, 315.0, 90.0, 0.0, 'null', 45.0, 135.0],\n",
       "      dtype=object)"
      ]
     },
     "execution_count": 40,
     "metadata": {},
     "output_type": "execute_result"
    }
   ],
   "source": [
    "drifting_gratings_table.orientation.unique()"
   ]
  },
  {
   "cell_type": "code",
   "execution_count": 41,
   "metadata": {},
   "outputs": [
    {
     "data": {
      "text/plain": [
       "array([4.0, 2.0, 8.0, 1.0, 'null', 15.0], dtype=object)"
      ]
     },
     "execution_count": 41,
     "metadata": {},
     "output_type": "execute_result"
    }
   ],
   "source": [
    "drifting_gratings_table.temporal_frequency.unique()"
   ]
  },
  {
   "cell_type": "code",
   "execution_count": 42,
   "metadata": {},
   "outputs": [
    {
     "data": {
      "text/plain": [
       "array(['0.04', 'null'], dtype=object)"
      ]
     },
     "execution_count": 42,
     "metadata": {},
     "output_type": "execute_result"
    }
   ],
   "source": [
    "drifting_gratings_table.spatial_frequency.unique()"
   ]
  },
  {
   "cell_type": "code",
   "execution_count": 43,
   "metadata": {},
   "outputs": [
    {
     "data": {
      "text/plain": [
       "array([0.8, 'null'], dtype=object)"
      ]
     },
     "execution_count": 43,
     "metadata": {},
     "output_type": "execute_result"
    }
   ],
   "source": [
    "drifting_gratings_table.contrast.unique()"
   ]
  },
  {
   "cell_type": "markdown",
   "metadata": {},
   "source": [
    "Let's find all the trials with the same orientation and temporal frequency"
   ]
  },
  {
   "cell_type": "code",
   "execution_count": 44,
   "metadata": {},
   "outputs": [
    {
     "data": {
      "text/plain": [
       "15"
      ]
     },
     "execution_count": 44,
     "metadata": {},
     "output_type": "execute_result"
    }
   ],
   "source": [
    "one_condition = drifting_gratings_table[(drifting_gratings_table.orientation == 0.0) & \n",
    "                           (drifting_gratings_table.temporal_frequency == 4.0)]\n",
    "\n",
    "len(one_condition)"
   ]
  },
  {
   "cell_type": "markdown",
   "metadata": {},
   "source": [
    "<div style=\"border-left: 3px solid #000; padding: 1px; padding-left: 25px; padding-right: 25px; padding-top:25px; padding-bottom:25px; background: #F0FAFF; \">\n",
    "    \n",
    "<h2> 5. More advanced data access</h2>\n",
    "\n",
    "<p> How to get spikes aligned to trial times without doing very much work.\n",
    "\n",
    "</div>"
   ]
  },
  {
   "cell_type": "markdown",
   "metadata": {},
   "source": [
    "<div style=\"background: #DFF0D8; border-radius: 3px; padding: 10px;\">\n",
    "<p><b>Task 5.1:</b> All spikes for one trial\n",
    "\n",
    "<p> Plot all the spikes for one trial, organized by probe.\n",
    "\n",
    "</div>\n"
   ]
  },
  {
   "cell_type": "code",
   "execution_count": 45,
   "metadata": {},
   "outputs": [],
   "source": [
    "stimulus_presentation_ids = one_condition.index.values[3] # select one trial\n",
    "unit_ids = session.units.index.values # select all the units in our dataset\n",
    "\n",
    "T = session.presentationwise_spike_times(stimulus_presentation_ids, unit_ids)"
   ]
  },
  {
   "cell_type": "code",
   "execution_count": 46,
   "metadata": {},
   "outputs": [
    {
     "data": {
      "text/html": [
       "<div>\n",
       "<style scoped>\n",
       "    .dataframe tbody tr th:only-of-type {\n",
       "        vertical-align: middle;\n",
       "    }\n",
       "\n",
       "    .dataframe tbody tr th {\n",
       "        vertical-align: top;\n",
       "    }\n",
       "\n",
       "    .dataframe thead th {\n",
       "        text-align: right;\n",
       "    }\n",
       "</style>\n",
       "<table border=\"1\" class=\"dataframe\">\n",
       "  <thead>\n",
       "    <tr style=\"text-align: right;\">\n",
       "      <th></th>\n",
       "      <th>stimulus_presentation_id</th>\n",
       "      <th>unit_id</th>\n",
       "      <th>time_since_stimulus_presentation_onset</th>\n",
       "    </tr>\n",
       "    <tr>\n",
       "      <th>spike_time</th>\n",
       "      <th></th>\n",
       "      <th></th>\n",
       "      <th></th>\n",
       "    </tr>\n",
       "  </thead>\n",
       "  <tbody>\n",
       "    <tr>\n",
       "      <td>2081.285522</td>\n",
       "      <td>3963</td>\n",
       "      <td>951767485</td>\n",
       "      <td>0.000322</td>\n",
       "    </tr>\n",
       "    <tr>\n",
       "      <td>2081.285655</td>\n",
       "      <td>3963</td>\n",
       "      <td>951769588</td>\n",
       "      <td>0.000455</td>\n",
       "    </tr>\n",
       "    <tr>\n",
       "      <td>2081.286128</td>\n",
       "      <td>3963</td>\n",
       "      <td>951774683</td>\n",
       "      <td>0.000927</td>\n",
       "    </tr>\n",
       "    <tr>\n",
       "      <td>2081.286128</td>\n",
       "      <td>3963</td>\n",
       "      <td>951775134</td>\n",
       "      <td>0.000927</td>\n",
       "    </tr>\n",
       "    <tr>\n",
       "      <td>2081.286195</td>\n",
       "      <td>3963</td>\n",
       "      <td>951774973</td>\n",
       "      <td>0.000994</td>\n",
       "    </tr>\n",
       "  </tbody>\n",
       "</table>\n",
       "</div>"
      ],
      "text/plain": [
       "             stimulus_presentation_id    unit_id  \\\n",
       "spike_time                                         \n",
       "2081.285522                      3963  951767485   \n",
       "2081.285655                      3963  951769588   \n",
       "2081.286128                      3963  951774683   \n",
       "2081.286128                      3963  951775134   \n",
       "2081.286195                      3963  951774973   \n",
       "\n",
       "             time_since_stimulus_presentation_onset  \n",
       "spike_time                                           \n",
       "2081.285522                                0.000322  \n",
       "2081.285655                                0.000455  \n",
       "2081.286128                                0.000927  \n",
       "2081.286128                                0.000927  \n",
       "2081.286195                                0.000994  "
      ]
     },
     "execution_count": 46,
     "metadata": {},
     "output_type": "execute_result"
    }
   ],
   "source": [
    "T.head()"
   ]
  },
  {
   "cell_type": "code",
   "execution_count": 47,
   "metadata": {},
   "outputs": [
    {
     "data": {
      "image/png": "[encoded data removed]",
      "text/plain": [
       "<Figure size 1080x576 with 1 Axes>"
      ]
     },
     "metadata": {
      "needs_background": "light"
     },
     "output_type": "display_data"
    }
   ],
   "source": [
    "y_positions = session.units.loc[T.unit_id]['probe_vertical_position']\n",
    "_, x_positions = np.unique(session.units.loc[T.unit_id]['probe_id'], return_inverse=True) \n",
    "_, colors = np.unique(session.units.loc[T.unit_id]['ecephys_structure_id'], return_inverse=True)\n",
    "\n",
    "plt.figure(figsize=(15,8))\n",
    "plt.scatter(x_positions * 2.5 + T.index.values, y_positions, c=colors, s=1, cmap='ocean')\n",
    "plt.xlabel('Time (s)', fontsize=14)\n",
    "plt.ylabel('Distance from probe tip (microns)', fontsize=14)\n",
    "\n",
    "plt.show()"
   ]
  },
  {
   "cell_type": "markdown",
   "metadata": {},
   "source": [
    "<div style=\"background: #DFF0D8; border-radius: 3px; padding: 10px;\">\n",
    "<p><b>Task 5.2:</b> Extract a matrix of units x times x trials\n",
    "\n",
    "<p> This is useful for a lot of things.\n",
    "\n",
    "</div>\n"
   ]
  },
  {
   "cell_type": "code",
   "execution_count": 48,
   "metadata": {},
   "outputs": [],
   "source": [
    "bin_edges = np.arange(0,2,0.025) # 25 ms bins over a 2-second window\n",
    "stimulus_presentation_ids = one_condition.index.values # select all the trials for one type\n",
    "unit_ids = session.units[session.units.ecephys_structure_acronym.str.match('VIS')].index.values # select all the units in visual cortex\n",
    "\n",
    "T = session.presentationwise_spike_counts(bin_edges, stimulus_presentation_ids, unit_ids)"
   ]
  },
  {
   "cell_type": "code",
   "execution_count": 49,
   "metadata": {},
   "outputs": [
    {
     "data": {
      "text/plain": [
       "<xarray.DataArray 'spike_counts' (stimulus_presentation_id: 5, time_relative_to_stimulus_onset: 5, unit_id: 5)>\n",
       "array([[[0, 0, 1, 0, 0],\n",
       "        [0, 0, 0, 0, 0],\n",
       "        [0, 0, 1, 0, 0],\n",
       "        [0, 0, 1, 0, 0],\n",
       "        [0, 0, 0, 0, 1]],\n",
       "\n",
       "       [[0, 0, 0, 0, 0],\n",
       "        [0, 0, 0, 0, 0],\n",
       "        [0, 0, 0, 0, 0],\n",
       "        [0, 0, 0, 0, 1],\n",
       "        [0, 0, 0, 0, 0]],\n",
       "\n",
       "       [[0, 0, 0, 0, 0],\n",
       "        [0, 0, 3, 0, 0],\n",
       "        [1, 0, 0, 0, 0],\n",
       "        [4, 1, 0, 0, 0],\n",
       "        [9, 2, 0, 0, 1]],\n",
       "\n",
       "       [[0, 0, 1, 0, 0],\n",
       "        [0, 0, 1, 1, 0],\n",
       "        [0, 0, 1, 0, 0],\n",
       "        [0, 0, 0, 0, 0],\n",
       "        [0, 0, 0, 0, 0]],\n",
       "\n",
       "       [[0, 0, 0, 1, 0],\n",
       "        [1, 3, 1, 0, 0],\n",
       "        [0, 0, 1, 2, 0],\n",
       "        [0, 2, 0, 0, 1],\n",
       "        [0, 1, 0, 0, 2]]], dtype=uint16)\n",
       "Coordinates:\n",
       "  * stimulus_presentation_id         (stimulus_presentation_id) int64 3873 ... 31082\n",
       "  * time_relative_to_stimulus_onset  (time_relative_to_stimulus_onset) float64 0.0125 ... 0.1125\n",
       "  * unit_id                          (unit_id) int64 951774904 ... 951774927"
      ]
     },
     "execution_count": 49,
     "metadata": {},
     "output_type": "execute_result"
    }
   ],
   "source": [
    "T.head()"
   ]
  },
  {
   "cell_type": "markdown",
   "metadata": {},
   "source": [
    "<div style=\"border-left: 3px solid #000; padding: 1px; padding-left: 25px; padding-right: 25px; padding-top:25px; padding-bottom:25px; background: #F0FAFF; \">\n",
    "<h3>xarray</h3>\n",
    "\n",
    "This has returned a new (to this notebook) data structure, the `xarray.DataArray`. You can think of this as similar to a 3D <code>pandas.DataFrame</code>, or as a <code>numpy.ndarray</code> with labeled axes and indices. See the [xarray documentation](http://xarray.pydata.org/en/stable/index.html) for more information. In the mean time, the salient features are:\n",
    "\n",
    "- Dimensions : Each axis on each data variable is associated with a named dimension. This lets us see unambiguously what the axes of our array mean.\n",
    "- Coordinates : Arrays of labels for each sample on each dimension.\n",
    "\n",
    "xarray is nice because it forces code to be explicit about dimensions and coordinates, improving readability and avoiding bugs. However, you can always convert to numpy or pandas data structures as follows:\n",
    "\n",
    "- to pandas: <code>histograms.to_dataframe()</code> produces a multiindexed dataframe\n",
    "- to numpy: <code>histograms.values</code> gives you access to the underlying numpy array\n",
    "\n",
    "</div>"
   ]
  },
  {
   "cell_type": "markdown",
   "metadata": {},
   "source": [
    "Let's do something cool with it!"
   ]
  },
  {
   "cell_type": "code",
   "execution_count": 50,
   "metadata": {},
   "outputs": [
    {
     "data": {
      "text/plain": [
       "Text(0, 0.5, 'Unit #')"
      ]
     },
     "execution_count": 50,
     "metadata": {},
     "output_type": "execute_result"
    },
    {
     "data": {
      "image/png": "[encoded data removed]",
      "text/plain": [
       "<Figure size 720x720 with 1 Axes>"
      ]
     },
     "metadata": {
      "needs_background": "light"
     },
     "output_type": "display_data"
    }
   ],
   "source": [
    "psth = T.mean(dim='stimulus_presentation_id')\n",
    "\n",
    "plt.figure(figsize=(10,10))\n",
    "plt.imshow(psth.T, aspect='auto', \n",
    "           extent = (T.time_relative_to_stimulus_onset.min(),\n",
    "                     T.time_relative_to_stimulus_onset.max(),\n",
    "                     0, T.unit_id.size))\n",
    "plt.xlabel('Time (s)')\n",
    "plt.ylabel('Unit #')"
   ]
  },
  {
   "cell_type": "markdown",
   "metadata": {},
   "source": [
    "<div style=\"border-left: 3px solid #000; padding: 1px; padding-left: 25px; padding-right: 25px; padding-top:25px; padding-bottom:25px; background: #F0FAFF; \">\n",
    "<h3>Summary</h3>\n",
    "\n",
    "That's the end of the tutorial! So far, you've learned how to:\n",
    "* Configure a cache for storing data locally (or in the cloud)\n",
    "* Browse through available sessions and select one to analyze\n",
    "* See which areas were recorded and where the units for each area are located along the probe\n",
    "* Load the spike times for one unit\n",
    "* Find information about the stimuli that were presented\n",
    "* Use more advanced methods to access spike times across multiple units or multiple stimulus presentations\n",
    "\n",
    "There's plenty more to learn, so we recommend checking out [this example notebook](https://allensdk.readthedocs.io/en/latest/_static/examples/nb/ecephys_session.html) to find out how to access more features of the data, such as:\n",
    "* Mean waveforms for each unit\n",
    "* LFP data\n",
    "* Running speed\n",
    "* Current source density plots\n",
    "\n",
    "</div>"
   ]
  },
  {
   "cell_type": "code",
   "execution_count": null,
   "metadata": {},
   "outputs": [],
   "source": []
  }
 ],
 "metadata": {
  "kernelspec": {
   "display_name": "Python 3",
   "language": "python",
   "name": "python3"
  },
  "language_info": {
   "codemirror_mode": {
    "name": "ipython",
    "version": 3
   },
   "file_extension": ".py",
   "mimetype": "text/x-python",
   "name": "python",
   "nbconvert_exporter": "python",
   "pygments_lexer": "ipython3",
   "version": "3.7.3"
  }
 },
 "nbformat": 4,
 "nbformat_minor": 2
}
